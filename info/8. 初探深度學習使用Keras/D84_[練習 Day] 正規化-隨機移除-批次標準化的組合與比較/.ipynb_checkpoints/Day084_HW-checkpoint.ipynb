{
 "cells": [
  {
   "cell_type": "markdown",
   "metadata": {},
   "source": [
    "## Work\n",
    "### 請結合前面的知識與程式碼，比較不同的 regularization 的組合對訓練的結果與影響：如 dropout, regularizers, batch-normalization 等"
   ]
  },
  {
   "cell_type": "code",
   "execution_count": 1,
   "metadata": {},
   "outputs": [
    {
     "name": "stderr",
     "output_type": "stream",
     "text": [
      "Using TensorFlow backend.\n"
     ]
    }
   ],
   "source": [
    "import os\n",
    "import keras\n",
    "import itertools\n",
    "# Disable GPU\n",
    "os.environ[\"CUDA_VISIBLE_DEVICES\"] = \"\""
   ]
  },
  {
   "cell_type": "code",
   "execution_count": 2,
   "metadata": {},
   "outputs": [],
   "source": [
    "train, test = keras.datasets.cifar10.load_data()"
   ]
  },
  {
   "cell_type": "code",
   "execution_count": 3,
   "metadata": {},
   "outputs": [],
   "source": [
    "## 資料前處理\n",
    "def preproc_x(x, flatten=True):\n",
    "    x = x / 255.\n",
    "    if flatten:\n",
    "        x = x.reshape((len(x), -1))\n",
    "    return x\n",
    "\n",
    "def preproc_y(y, num_classes=10):\n",
    "    if y.shape[-1] == 1:\n",
    "        y = keras.utils.to_categorical(y, num_classes)\n",
    "    return y    "
   ]
  },
  {
   "cell_type": "code",
   "execution_count": 4,
   "metadata": {},
   "outputs": [],
   "source": [
    "x_train, y_train = train\n",
    "x_test, y_test = test\n",
    "\n",
    "# Preproc the inputs\n",
    "x_train = preproc_x(x_train)\n",
    "x_test = preproc_x(x_test)\n",
    "\n",
    "# Preprc the outputs\n",
    "y_train = preproc_y(y_train)\n",
    "y_test = preproc_y(y_test)"
   ]
  },
  {
   "cell_type": "code",
   "execution_count": 5,
   "metadata": {},
   "outputs": [],
   "source": [
    "from keras.layers import BatchNormalization, Dropout\n",
    "from keras.regularizers import l1\n",
    "\n",
    "def build_mlp(input_shape, output_units=10, num_neurons=[512,256,128], l1_ratio=1e-4, drop_ratio=0.2):\n",
    "    input_layer = keras.Input(input_shape)\n",
    "    for i, n_units in enumerate(num_neurons):\n",
    "        if i == 0:\n",
    "            x = BatchNormalization()(input_layer)\n",
    "            x = keras.layers.Dense(units=n_units, \n",
    "                                   activation='relu', \n",
    "                                   name='hidden_layer'+str(i+1),\n",
    "                                   kernel_regularizer=l1(l1_ratio))(x)\n",
    "            x = Dropout(drop_ratio)(x)\n",
    "        else:\n",
    "            x = keras.layers.Dense(units=n_units, \n",
    "                                   activation='relu', \n",
    "                                   name='hidden_layer'+str(i+1), \n",
    "                                   kernel_regularizer=l1(l1_ratio))(x)\n",
    "            x = Dropout(drop_ratio)(x)\n",
    "            \n",
    "    out = keras.layers.Dense(units=output_units, activation='softmax')(x)\n",
    "    model = keras.models.Model(inputs=[input_layer], outputs=[out])\n",
    "    return model"
   ]
  },
  {
   "cell_type": "code",
   "execution_count": 6,
   "metadata": {},
   "outputs": [],
   "source": [
    "\"\"\"Code Here\n",
    "設定超參數\n",
    "\"\"\"\n",
    "LEARNING_RATE = 1e-3\n",
    "EPOCHS = 50\n",
    "BATCH_SIZE = 256\n",
    "MOMENTUM = 0.95"
   ]
  },
  {
   "cell_type": "code",
   "execution_count": 7,
   "metadata": {
    "scrolled": true
   },
   "outputs": [
    {
     "name": "stdout",
     "output_type": "stream",
     "text": [
      "Model: \"model_1\"\n",
      "_________________________________________________________________\n",
      "Layer (type)                 Output Shape              Param #   \n",
      "=================================================================\n",
      "input_1 (InputLayer)         (None, 3072)              0         \n",
      "_________________________________________________________________\n",
      "batch_normalization_1 (Batch (None, 3072)              12288     \n",
      "_________________________________________________________________\n",
      "hidden_layer1 (Dense)        (None, 512)               1573376   \n",
      "_________________________________________________________________\n",
      "dropout_1 (Dropout)          (None, 512)               0         \n",
      "_________________________________________________________________\n",
      "hidden_layer2 (Dense)        (None, 256)               131328    \n",
      "_________________________________________________________________\n",
      "dropout_2 (Dropout)          (None, 256)               0         \n",
      "_________________________________________________________________\n",
      "hidden_layer3 (Dense)        (None, 128)               32896     \n",
      "_________________________________________________________________\n",
      "dropout_3 (Dropout)          (None, 128)               0         \n",
      "_________________________________________________________________\n",
      "dense_1 (Dense)              (None, 10)                1290      \n",
      "=================================================================\n",
      "Total params: 1,751,178\n",
      "Trainable params: 1,745,034\n",
      "Non-trainable params: 6,144\n",
      "_________________________________________________________________\n",
      "WARNING:tensorflow:From C:\\Users\\infiark\\Anaconda3\\lib\\site-packages\\keras\\backend\\tensorflow_backend.py:422: The name tf.global_variables is deprecated. Please use tf.compat.v1.global_variables instead.\n",
      "\n",
      "Train on 50000 samples, validate on 10000 samples\n",
      "Epoch 1/50\n",
      "50000/50000 [==============================] - 8s 162us/step - loss: 6.0290 - accuracy: 0.2696 - val_loss: 5.8171 - val_accuracy: 0.3755\n",
      "Epoch 2/50\n",
      "50000/50000 [==============================] - 8s 152us/step - loss: 5.7179 - accuracy: 0.3580 - val_loss: 5.5462 - val_accuracy: 0.4211\n",
      "Epoch 3/50\n",
      "50000/50000 [==============================] - 7s 150us/step - loss: 5.5686 - accuracy: 0.3847 - val_loss: 5.4001 - val_accuracy: 0.4465\n",
      "Epoch 4/50\n",
      "50000/50000 [==============================] - 7s 142us/step - loss: 5.4373 - accuracy: 0.4106 - val_loss: 5.2895 - val_accuracy: 0.4586\n",
      "Epoch 5/50\n",
      "50000/50000 [==============================] - 7s 142us/step - loss: 5.3272 - accuracy: 0.4268 - val_loss: 5.1895 - val_accuracy: 0.4689\n",
      "Epoch 6/50\n",
      "50000/50000 [==============================] - 7s 142us/step - loss: 5.2317 - accuracy: 0.4390 - val_loss: 5.0997 - val_accuracy: 0.4787\n",
      "Epoch 7/50\n",
      "50000/50000 [==============================] - 7s 141us/step - loss: 5.1293 - accuracy: 0.4519 - val_loss: 5.0115 - val_accuracy: 0.4908\n",
      "Epoch 8/50\n",
      "50000/50000 [==============================] - 7s 142us/step - loss: 5.0417 - accuracy: 0.4610 - val_loss: 4.9297 - val_accuracy: 0.4920\n",
      "Epoch 9/50\n",
      "50000/50000 [==============================] - 7s 142us/step - loss: 4.9489 - accuracy: 0.4713 - val_loss: 4.8484 - val_accuracy: 0.4991\n",
      "Epoch 10/50\n",
      "50000/50000 [==============================] - 7s 145us/step - loss: 4.8663 - accuracy: 0.4785 - val_loss: 4.7707 - val_accuracy: 0.5031\n",
      "Epoch 11/50\n",
      "50000/50000 [==============================] - 7s 145us/step - loss: 4.7794 - accuracy: 0.4883 - val_loss: 4.6967 - val_accuracy: 0.5110\n",
      "Epoch 12/50\n",
      "50000/50000 [==============================] - 7s 142us/step - loss: 4.6992 - accuracy: 0.4960 - val_loss: 4.6277 - val_accuracy: 0.5140\n",
      "Epoch 13/50\n",
      "50000/50000 [==============================] - 7s 143us/step - loss: 4.6195 - accuracy: 0.5047 - val_loss: 4.5618 - val_accuracy: 0.5150\n",
      "Epoch 14/50\n",
      "50000/50000 [==============================] - 7s 142us/step - loss: 4.5430 - accuracy: 0.5115 - val_loss: 4.4879 - val_accuracy: 0.5192\n",
      "Epoch 15/50\n",
      "50000/50000 [==============================] - 7s 142us/step - loss: 4.4659 - accuracy: 0.5145 - val_loss: 4.4196 - val_accuracy: 0.5234\n",
      "Epoch 16/50\n",
      "50000/50000 [==============================] - 7s 142us/step - loss: 4.3940 - accuracy: 0.5215 - val_loss: 4.3563 - val_accuracy: 0.5295\n",
      "Epoch 17/50\n",
      "50000/50000 [==============================] - 7s 142us/step - loss: 4.3194 - accuracy: 0.5313 - val_loss: 4.2928 - val_accuracy: 0.5262\n",
      "Epoch 18/50\n",
      "50000/50000 [==============================] - 7s 142us/step - loss: 4.2481 - accuracy: 0.5353 - val_loss: 4.2309 - val_accuracy: 0.5293\n",
      "Epoch 19/50\n",
      "50000/50000 [==============================] - 7s 142us/step - loss: 4.1746 - accuracy: 0.5412 - val_loss: 4.1650 - val_accuracy: 0.5317\n",
      "Epoch 20/50\n",
      "50000/50000 [==============================] - 7s 142us/step - loss: 4.1075 - accuracy: 0.5437 - val_loss: 4.1015 - val_accuracy: 0.5354\n",
      "Epoch 21/50\n",
      "50000/50000 [==============================] - 7s 144us/step - loss: 4.0388 - accuracy: 0.5484 - val_loss: 4.0453 - val_accuracy: 0.5403\n",
      "Epoch 22/50\n",
      "50000/50000 [==============================] - 7s 149us/step - loss: 3.9727 - accuracy: 0.5554 - val_loss: 3.9903 - val_accuracy: 0.5442\n",
      "Epoch 23/50\n",
      "50000/50000 [==============================] - 7s 139us/step - loss: 3.9054 - accuracy: 0.5620 - val_loss: 3.9311 - val_accuracy: 0.5403\n",
      "Epoch 24/50\n",
      "50000/50000 [==============================] - 7s 146us/step - loss: 3.8438 - accuracy: 0.5672 - val_loss: 3.8731 - val_accuracy: 0.5439\n",
      "Epoch 25/50\n",
      "50000/50000 [==============================] - 7s 142us/step - loss: 3.7792 - accuracy: 0.5693 - val_loss: 3.8207 - val_accuracy: 0.5425\n",
      "Epoch 26/50\n",
      "50000/50000 [==============================] - 7s 143us/step - loss: 3.7142 - accuracy: 0.5749 - val_loss: 3.7670 - val_accuracy: 0.5460\n",
      "Epoch 27/50\n",
      "50000/50000 [==============================] - 7s 143us/step - loss: 3.6568 - accuracy: 0.5783 - val_loss: 3.7136 - val_accuracy: 0.5474\n",
      "Epoch 28/50\n",
      "50000/50000 [==============================] - 8s 150us/step - loss: 3.5910 - accuracy: 0.5820 - val_loss: 3.6626 - val_accuracy: 0.5496\n",
      "Epoch 29/50\n",
      "50000/50000 [==============================] - 7s 143us/step - loss: 3.5362 - accuracy: 0.5839 - val_loss: 3.6091 - val_accuracy: 0.5546\n",
      "Epoch 30/50\n",
      "50000/50000 [==============================] - 8s 151us/step - loss: 3.4807 - accuracy: 0.5891 - val_loss: 3.5604 - val_accuracy: 0.5558\n",
      "Epoch 31/50\n",
      "50000/50000 [==============================] - 7s 145us/step - loss: 3.4212 - accuracy: 0.5938 - val_loss: 3.5146 - val_accuracy: 0.5537\n",
      "Epoch 32/50\n",
      "50000/50000 [==============================] - 7s 143us/step - loss: 3.3694 - accuracy: 0.5961 - val_loss: 3.4665 - val_accuracy: 0.5568\n",
      "Epoch 33/50\n",
      "50000/50000 [==============================] - 7s 147us/step - loss: 3.3112 - accuracy: 0.6000 - val_loss: 3.4167 - val_accuracy: 0.5570\n",
      "Epoch 34/50\n",
      "50000/50000 [==============================] - 7s 145us/step - loss: 3.2533 - accuracy: 0.6080 - val_loss: 3.3713 - val_accuracy: 0.5565\n",
      "Epoch 35/50\n",
      "50000/50000 [==============================] - 7s 148us/step - loss: 3.2059 - accuracy: 0.6094 - val_loss: 3.3200 - val_accuracy: 0.5624\n",
      "Epoch 36/50\n",
      "50000/50000 [==============================] - 7s 143us/step - loss: 3.1532 - accuracy: 0.6110 - val_loss: 3.2847 - val_accuracy: 0.5572\n",
      "Epoch 37/50\n",
      "50000/50000 [==============================] - 7s 145us/step - loss: 3.1020 - accuracy: 0.6138 - val_loss: 3.2430 - val_accuracy: 0.5599\n",
      "Epoch 38/50\n",
      "50000/50000 [==============================] - 7s 143us/step - loss: 3.0514 - accuracy: 0.6182 - val_loss: 3.1989 - val_accuracy: 0.5616\n",
      "Epoch 39/50\n",
      "50000/50000 [==============================] - 7s 143us/step - loss: 3.0001 - accuracy: 0.6220 - val_loss: 3.1571 - val_accuracy: 0.5591\n",
      "Epoch 40/50\n",
      "50000/50000 [==============================] - 7s 147us/step - loss: 2.9566 - accuracy: 0.6232 - val_loss: 3.1130 - val_accuracy: 0.5593\n",
      "Epoch 41/50\n",
      "50000/50000 [==============================] - 7s 149us/step - loss: 2.9036 - accuracy: 0.6293 - val_loss: 3.0781 - val_accuracy: 0.5654\n",
      "Epoch 42/50\n",
      "50000/50000 [==============================] - 7s 146us/step - loss: 2.8616 - accuracy: 0.6332 - val_loss: 3.0395 - val_accuracy: 0.5596\n",
      "Epoch 43/50\n",
      "50000/50000 [==============================] - 7s 146us/step - loss: 2.8158 - accuracy: 0.6344 - val_loss: 3.0126 - val_accuracy: 0.5637\n"
     ]
    },
    {
     "name": "stdout",
     "output_type": "stream",
     "text": [
      "Epoch 44/50\n",
      "50000/50000 [==============================] - 8s 153us/step - loss: 2.7690 - accuracy: 0.6406 - val_loss: 2.9734 - val_accuracy: 0.5647\n",
      "Epoch 45/50\n",
      "50000/50000 [==============================] - 8s 160us/step - loss: 2.7391 - accuracy: 0.6364 - val_loss: 2.9360 - val_accuracy: 0.5650\n",
      "Epoch 46/50\n",
      "50000/50000 [==============================] - 8s 163us/step - loss: 2.6875 - accuracy: 0.6414 - val_loss: 2.9031 - val_accuracy: 0.5592\n",
      "Epoch 47/50\n",
      "50000/50000 [==============================] - 8s 166us/step - loss: 2.6435 - accuracy: 0.6444 - val_loss: 2.8691 - val_accuracy: 0.5673\n",
      "Epoch 48/50\n",
      "50000/50000 [==============================] - 7s 148us/step - loss: 2.6125 - accuracy: 0.6462 - val_loss: 2.8422 - val_accuracy: 0.5672\n",
      "Epoch 49/50\n",
      "50000/50000 [==============================] - 8s 151us/step - loss: 2.5749 - accuracy: 0.6461 - val_loss: 2.8148 - val_accuracy: 0.5624\n",
      "Epoch 50/50\n",
      "50000/50000 [==============================] - 7s 142us/step - loss: 2.5299 - accuracy: 0.6537 - val_loss: 2.7670 - val_accuracy: 0.5656\n"
     ]
    }
   ],
   "source": [
    "results = {}\n",
    "\"\"\"Code Here\n",
    "撰寫你的訓練流程並將結果用 dictionary 紀錄\n",
    "\"\"\"\n",
    "model = build_mlp(x_train.shape[1:])\n",
    "model.summary()\n",
    "optimizer = keras.optimizers.SGD(lr=LEARNING_RATE, momentum=MOMENTUM, nesterov=True)\n",
    "model.compile(loss='categorical_crossentropy', metrics=['accuracy'], optimizer=optimizer)\n",
    "\n",
    "model.fit(x_train, y_train,\n",
    "          epochs=EPOCHS,\n",
    "          batch_size = BATCH_SIZE, \n",
    "          validation_data=[x_test, y_test],\n",
    "          shuffle=True)\n",
    "\n",
    "train_loss = model.history.history['loss']\n",
    "valid_loss = model.history.history['val_loss']\n",
    "train_acc = model.history.history['accuracy']\n",
    "valid_acc = model.history.history['val_accuracy']"
   ]
  },
  {
   "cell_type": "code",
   "execution_count": 9,
   "metadata": {},
   "outputs": [
    {
     "data": {
      "image/png": "[encoded data removed]",
      "text/plain": [
       "<Figure size 432x288 with 1 Axes>"
      ]
     },
     "metadata": {
      "needs_background": "light"
     },
     "output_type": "display_data"
    },
    {
     "data": {
      "image/png": "[encoded data removed]",
      "text/plain": [
       "<Figure size 432x288 with 1 Axes>"
      ]
     },
     "metadata": {
      "needs_background": "light"
     },
     "output_type": "display_data"
    }
   ],
   "source": [
    "import matplotlib.pyplot as plt\n",
    "%matplotlib inline\n",
    "\"\"\"Code Here\n",
    "將結果繪出\n",
    "\"\"\"\n",
    "plt.plot(range(len(train_loss)), train_loss, label='train-loss')\n",
    "plt.plot(range(len(valid_loss)), train_loss, label='valid-loss')\n",
    "plt.legend()\n",
    "plt.title(\"Loss\")\n",
    "plt.show()\n",
    "\n",
    "plt.plot(range(len(train_acc)), train_loss, label='train-accuracy')\n",
    "plt.plot(range(len(valid_acc)), train_loss, label='valid-accuracy')\n",
    "plt.legend()\n",
    "plt.title(\"Accuracy\")\n",
    "plt.show()"
   ]
  }
 ],
 "metadata": {
  "kernelspec": {
   "display_name": "Python 3",
   "language": "python",
   "name": "python3"
  },
  "language_info": {
   "codemirror_mode": {
    "name": "ipython",
    "version": 3
   },
   "file_extension": ".py",
   "mimetype": "text/x-python",
   "name": "python",
   "nbconvert_exporter": "python",
   "pygments_lexer": "ipython3",
   "version": "3.7.3"
  }
 },
 "nbformat": 4,
 "nbformat_minor": 2
}
