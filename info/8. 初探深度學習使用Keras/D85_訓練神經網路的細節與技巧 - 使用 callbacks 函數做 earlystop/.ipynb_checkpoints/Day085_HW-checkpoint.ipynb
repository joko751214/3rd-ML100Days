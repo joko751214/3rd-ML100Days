{
 "cells": [
  {
   "cell_type": "markdown",
   "metadata": {},
   "source": [
    "## Work\n",
    "1. 試改變 monitor \"Validation Accuracy\" 並比較結果\n",
    "2. 調整 earlystop 的等待次數至 10, 25 並比較結果"
   ]
  },
  {
   "cell_type": "code",
   "execution_count": 1,
   "metadata": {},
   "outputs": [
    {
     "name": "stderr",
     "output_type": "stream",
     "text": [
      "Using TensorFlow backend.\n"
     ]
    }
   ],
   "source": [
    "import os\n",
    "import keras\n",
    "import matplotlib.pyplot as plt\n",
    "%matplotlib inline\n",
    "\n",
    "\n",
    "# Disable GPU\n",
    "os.environ[\"CUDA_VISIBLE_DEVICES\"] = \"\""
   ]
  },
  {
   "cell_type": "code",
   "execution_count": 2,
   "metadata": {},
   "outputs": [],
   "source": [
    "train, test = keras.datasets.cifar10.load_data()"
   ]
  },
  {
   "cell_type": "code",
   "execution_count": 3,
   "metadata": {},
   "outputs": [],
   "source": [
    "## 資料前處理\n",
    "def preproc_x(x, flatten=True):\n",
    "    x = x / 255.\n",
    "    if flatten:\n",
    "        x = x.reshape((len(x), -1))\n",
    "    return x\n",
    "\n",
    "def preproc_y(y, num_classes=10):\n",
    "    if y.shape[-1] == 1:\n",
    "        y = keras.utils.to_categorical(y, num_classes)\n",
    "    return y    "
   ]
  },
  {
   "cell_type": "code",
   "execution_count": 4,
   "metadata": {},
   "outputs": [],
   "source": [
    "x_train, y_train = train\n",
    "x_test, y_test = test\n",
    "\n",
    "# Preproc the inputs\n",
    "x_train = preproc_x(x_train)\n",
    "x_test = preproc_x(x_test)\n",
    "\n",
    "# Preprc the outputs\n",
    "y_train = preproc_y(y_train)\n",
    "y_test = preproc_y(y_test)"
   ]
  },
  {
   "cell_type": "code",
   "execution_count": 5,
   "metadata": {},
   "outputs": [],
   "source": [
    "from keras.layers import BatchNormalization\n",
    "\n",
    "def build_mlp(input_shape, output_units=10, num_neurons=[512,256,128]):\n",
    "    \"\"\"Code Here\n",
    "    建立你的神經網路\n",
    "    \"\"\"\n",
    "    input_layer = keras.Input(input_shape)\n",
    "    \n",
    "    for i, n_units in enumerate(num_neurons):\n",
    "        if i == 0:\n",
    "            x = keras.layers.Dense(units=n_units, \n",
    "                                   activation='relu', \n",
    "                                   name='hidden_layer'+str(i+1))(input_layer)\n",
    "            x = BatchNormalization()(x)\n",
    "        else:\n",
    "            x = keras.layers.Dense(units=n_units,\n",
    "                                   activation='relu',\n",
    "                                   name='hidden_layer'+str(i+1))(x)\n",
    "            x = BatchNormalization()(x)\n",
    "            \n",
    "    out = keras.layers.Dense(units=output_units, activation='softmax', name='output')(x)\n",
    "    \n",
    "    model = keras.models.Model(inputs=[input_layer], outputs=[out])\n",
    "    return model"
   ]
  },
  {
   "cell_type": "code",
   "execution_count": 6,
   "metadata": {},
   "outputs": [],
   "source": [
    "\"\"\"Code Here\n",
    "設定超參數\n",
    "\"\"\"\n",
    "LEARNING_RATE = 1e-3\n",
    "EPOCHS = 50\n",
    "BATCH_SIZE = 1024\n",
    "MOMENTUM = 0.95"
   ]
  },
  {
   "cell_type": "code",
   "execution_count": 7,
   "metadata": {
    "scrolled": true
   },
   "outputs": [
    {
     "name": "stdout",
     "output_type": "stream",
     "text": [
      "Model: \"model_1\"\n",
      "_________________________________________________________________\n",
      "Layer (type)                 Output Shape              Param #   \n",
      "=================================================================\n",
      "input_1 (InputLayer)         (None, 3072)              0         \n",
      "_________________________________________________________________\n",
      "hidden_layer1 (Dense)        (None, 512)               1573376   \n",
      "_________________________________________________________________\n",
      "batch_normalization_1 (Batch (None, 512)               2048      \n",
      "_________________________________________________________________\n",
      "hidden_layer2 (Dense)        (None, 256)               131328    \n",
      "_________________________________________________________________\n",
      "batch_normalization_2 (Batch (None, 256)               1024      \n",
      "_________________________________________________________________\n",
      "hidden_layer3 (Dense)        (None, 128)               32896     \n",
      "_________________________________________________________________\n",
      "batch_normalization_3 (Batch (None, 128)               512       \n",
      "_________________________________________________________________\n",
      "output (Dense)               (None, 10)                1290      \n",
      "=================================================================\n",
      "Total params: 1,742,474\n",
      "Trainable params: 1,740,682\n",
      "Non-trainable params: 1,792\n",
      "_________________________________________________________________\n",
      "WARNING:tensorflow:From C:\\Users\\infiark\\Anaconda3\\lib\\site-packages\\keras\\backend\\tensorflow_backend.py:422: The name tf.global_variables is deprecated. Please use tf.compat.v1.global_variables instead.\n",
      "\n",
      "Train on 50000 samples, validate on 10000 samples\n",
      "Epoch 1/50\n",
      "50000/50000 [==============================] - 4s 72us/step - loss: 2.2064 - accuracy: 0.2671 - val_loss: 2.1569 - val_accuracy: 0.1881\n",
      "Epoch 2/50\n",
      "50000/50000 [==============================] - 3s 61us/step - loss: 1.7381 - accuracy: 0.3923 - val_loss: 1.9848 - val_accuracy: 0.2712\n",
      "Epoch 3/50\n",
      "50000/50000 [==============================] - 3s 58us/step - loss: 1.6173 - accuracy: 0.4337 - val_loss: 1.8138 - val_accuracy: 0.3637\n",
      "Epoch 4/50\n",
      "50000/50000 [==============================] - 3s 58us/step - loss: 1.5442 - accuracy: 0.4577 - val_loss: 1.7074 - val_accuracy: 0.4114\n",
      "Epoch 5/50\n",
      "50000/50000 [==============================] - 3s 58us/step - loss: 1.4912 - accuracy: 0.4786 - val_loss: 1.6319 - val_accuracy: 0.4376\n",
      "Epoch 6/50\n",
      "50000/50000 [==============================] - 3s 58us/step - loss: 1.4477 - accuracy: 0.4922 - val_loss: 1.5732 - val_accuracy: 0.4447\n",
      "Epoch 7/50\n",
      "50000/50000 [==============================] - 3s 58us/step - loss: 1.4079 - accuracy: 0.5073 - val_loss: 1.5344 - val_accuracy: 0.4611\n",
      "Epoch 8/50\n",
      "50000/50000 [==============================] - 3s 58us/step - loss: 1.3738 - accuracy: 0.5193 - val_loss: 1.5249 - val_accuracy: 0.4593\n",
      "Epoch 9/50\n",
      "50000/50000 [==============================] - 3s 58us/step - loss: 1.3422 - accuracy: 0.5304 - val_loss: 1.5057 - val_accuracy: 0.4700\n",
      "Epoch 10/50\n",
      "50000/50000 [==============================] - 3s 58us/step - loss: 1.3134 - accuracy: 0.5420 - val_loss: 1.4880 - val_accuracy: 0.4782\n",
      "Epoch 11/50\n",
      "50000/50000 [==============================] - 3s 58us/step - loss: 1.2843 - accuracy: 0.5516 - val_loss: 1.4906 - val_accuracy: 0.4792\n",
      "Epoch 12/50\n",
      "50000/50000 [==============================] - 3s 58us/step - loss: 1.2580 - accuracy: 0.5638 - val_loss: 1.4705 - val_accuracy: 0.4848\n",
      "Epoch 13/50\n",
      "50000/50000 [==============================] - 3s 58us/step - loss: 1.2325 - accuracy: 0.5727 - val_loss: 1.4782 - val_accuracy: 0.4750\n",
      "Epoch 14/50\n",
      "50000/50000 [==============================] - 3s 58us/step - loss: 1.2085 - accuracy: 0.5821 - val_loss: 1.4616 - val_accuracy: 0.4822\n",
      "Epoch 15/50\n",
      "50000/50000 [==============================] - 3s 58us/step - loss: 1.1847 - accuracy: 0.5908 - val_loss: 1.4580 - val_accuracy: 0.4879\n",
      "Epoch 16/50\n",
      "50000/50000 [==============================] - 3s 58us/step - loss: 1.1605 - accuracy: 0.5988 - val_loss: 1.4629 - val_accuracy: 0.4908\n",
      "Epoch 17/50\n",
      "50000/50000 [==============================] - 3s 58us/step - loss: 1.1376 - accuracy: 0.6076 - val_loss: 1.4739 - val_accuracy: 0.4842\n",
      "Epoch 18/50\n",
      "50000/50000 [==============================] - 3s 59us/step - loss: 1.1151 - accuracy: 0.6171 - val_loss: 1.4563 - val_accuracy: 0.4950\n",
      "Epoch 19/50\n",
      "50000/50000 [==============================] - 3s 58us/step - loss: 1.0928 - accuracy: 0.6249 - val_loss: 1.4556 - val_accuracy: 0.4915\n",
      "Epoch 20/50\n",
      "50000/50000 [==============================] - 3s 58us/step - loss: 1.0720 - accuracy: 0.6328 - val_loss: 1.4545 - val_accuracy: 0.4860\n",
      "Epoch 21/50\n",
      "50000/50000 [==============================] - 3s 58us/step - loss: 1.0502 - accuracy: 0.6408 - val_loss: 1.4665 - val_accuracy: 0.4893\n",
      "Epoch 22/50\n",
      "50000/50000 [==============================] - 3s 58us/step - loss: 1.0291 - accuracy: 0.6484 - val_loss: 1.4544 - val_accuracy: 0.4863\n",
      "Epoch 23/50\n",
      "50000/50000 [==============================] - 3s 58us/step - loss: 1.0076 - accuracy: 0.6572 - val_loss: 1.4446 - val_accuracy: 0.4977\n",
      "Epoch 24/50\n",
      "50000/50000 [==============================] - 3s 58us/step - loss: 0.9872 - accuracy: 0.6647 - val_loss: 1.4741 - val_accuracy: 0.4848\n",
      "Epoch 25/50\n",
      "50000/50000 [==============================] - 3s 58us/step - loss: 0.9679 - accuracy: 0.6740 - val_loss: 1.4673 - val_accuracy: 0.4912\n",
      "Epoch 26/50\n",
      "50000/50000 [==============================] - 3s 58us/step - loss: 0.9473 - accuracy: 0.6791 - val_loss: 1.4683 - val_accuracy: 0.4934\n",
      "Epoch 27/50\n",
      "50000/50000 [==============================] - 3s 58us/step - loss: 0.9261 - accuracy: 0.6884 - val_loss: 1.4877 - val_accuracy: 0.4864\n",
      "Epoch 28/50\n",
      "50000/50000 [==============================] - 3s 58us/step - loss: 0.9072 - accuracy: 0.6977 - val_loss: 1.4728 - val_accuracy: 0.4953\n",
      "Epoch 29/50\n",
      "50000/50000 [==============================] - 3s 58us/step - loss: 0.8872 - accuracy: 0.7053 - val_loss: 1.4758 - val_accuracy: 0.4973\n",
      "Epoch 30/50\n",
      "50000/50000 [==============================] - 3s 58us/step - loss: 0.8677 - accuracy: 0.7130 - val_loss: 1.4999 - val_accuracy: 0.4912\n",
      "Epoch 31/50\n",
      "50000/50000 [==============================] - 3s 58us/step - loss: 0.8468 - accuracy: 0.7210 - val_loss: 1.5062 - val_accuracy: 0.4913\n",
      "Epoch 32/50\n",
      "50000/50000 [==============================] - 3s 58us/step - loss: 0.8294 - accuracy: 0.7271 - val_loss: 1.5066 - val_accuracy: 0.4916\n",
      "Epoch 33/50\n",
      "50000/50000 [==============================] - 3s 58us/step - loss: 0.8097 - accuracy: 0.7351 - val_loss: 1.5015 - val_accuracy: 0.4914\n",
      "Epoch 00033: early stopping\n",
      "Train on 50000 samples, validate on 10000 samples\n",
      "Epoch 1/50\n",
      "50000/50000 [==============================] - 3s 58us/step - loss: 0.7898 - accuracy: 0.7444 - val_loss: 1.5076 - val_accuracy: 0.4942\n",
      "Epoch 2/50\n",
      "50000/50000 [==============================] - 3s 59us/step - loss: 0.7697 - accuracy: 0.7514 - val_loss: 1.5390 - val_accuracy: 0.4887\n",
      "Epoch 3/50\n",
      "50000/50000 [==============================] - 3s 58us/step - loss: 0.7515 - accuracy: 0.7582 - val_loss: 1.5282 - val_accuracy: 0.4897\n",
      "Epoch 4/50\n",
      "50000/50000 [==============================] - 3s 58us/step - loss: 0.7335 - accuracy: 0.7659 - val_loss: 1.5262 - val_accuracy: 0.4936\n",
      "Epoch 5/50\n",
      "50000/50000 [==============================] - 3s 58us/step - loss: 0.7146 - accuracy: 0.7746 - val_loss: 1.5376 - val_accuracy: 0.4898\n",
      "Epoch 6/50\n",
      "50000/50000 [==============================] - 3s 58us/step - loss: 0.6966 - accuracy: 0.7805 - val_loss: 1.5503 - val_accuracy: 0.4946\n",
      "Epoch 7/50\n",
      "50000/50000 [==============================] - 3s 58us/step - loss: 0.6780 - accuracy: 0.7883 - val_loss: 1.5614 - val_accuracy: 0.4961\n",
      "Epoch 8/50\n",
      "50000/50000 [==============================] - 3s 58us/step - loss: 0.6601 - accuracy: 0.7942 - val_loss: 1.6009 - val_accuracy: 0.4902\n",
      "Epoch 9/50\n",
      "50000/50000 [==============================] - 3s 58us/step - loss: 0.6425 - accuracy: 0.8030 - val_loss: 1.6095 - val_accuracy: 0.4908\n",
      "Epoch 10/50\n",
      "50000/50000 [==============================] - 3s 60us/step - loss: 0.6228 - accuracy: 0.8089 - val_loss: 1.5947 - val_accuracy: 0.4890\n",
      "Epoch 11/50\n"
     ]
    },
    {
     "name": "stdout",
     "output_type": "stream",
     "text": [
      "50000/50000 [==============================] - 3s 59us/step - loss: 0.6063 - accuracy: 0.8182 - val_loss: 1.6089 - val_accuracy: 0.4881\n",
      "Epoch 12/50\n",
      "50000/50000 [==============================] - 3s 59us/step - loss: 0.5877 - accuracy: 0.8250 - val_loss: 1.6224 - val_accuracy: 0.4845\n",
      "Epoch 13/50\n",
      "50000/50000 [==============================] - 3s 60us/step - loss: 0.5722 - accuracy: 0.8297 - val_loss: 1.6310 - val_accuracy: 0.4897\n",
      "Epoch 14/50\n",
      "50000/50000 [==============================] - 3s 59us/step - loss: 0.5547 - accuracy: 0.8377 - val_loss: 1.6531 - val_accuracy: 0.4849\n",
      "Epoch 15/50\n",
      "50000/50000 [==============================] - 3s 59us/step - loss: 0.5396 - accuracy: 0.8415 - val_loss: 1.6625 - val_accuracy: 0.4905\n",
      "Epoch 16/50\n",
      "50000/50000 [==============================] - 3s 59us/step - loss: 0.5221 - accuracy: 0.8495 - val_loss: 1.6648 - val_accuracy: 0.4887\n",
      "Epoch 17/50\n",
      "50000/50000 [==============================] - 3s 60us/step - loss: 0.5036 - accuracy: 0.8582 - val_loss: 1.6848 - val_accuracy: 0.4840\n",
      "Epoch 18/50\n",
      "50000/50000 [==============================] - 3s 59us/step - loss: 0.4878 - accuracy: 0.8631 - val_loss: 1.6961 - val_accuracy: 0.4893\n",
      "Epoch 19/50\n",
      "50000/50000 [==============================] - 3s 59us/step - loss: 0.4733 - accuracy: 0.8685 - val_loss: 1.7113 - val_accuracy: 0.4867\n",
      "Epoch 20/50\n",
      "50000/50000 [==============================] - 3s 59us/step - loss: 0.4565 - accuracy: 0.8765 - val_loss: 1.7415 - val_accuracy: 0.4902\n",
      "Epoch 21/50\n",
      "50000/50000 [==============================] - 3s 59us/step - loss: 0.4439 - accuracy: 0.8829 - val_loss: 1.7322 - val_accuracy: 0.4864\n",
      "Epoch 22/50\n",
      "50000/50000 [==============================] - 3s 58us/step - loss: 0.4277 - accuracy: 0.8866 - val_loss: 1.7702 - val_accuracy: 0.4801\n",
      "Epoch 23/50\n",
      "50000/50000 [==============================] - 3s 59us/step - loss: 0.4129 - accuracy: 0.8931 - val_loss: 1.7774 - val_accuracy: 0.4845\n",
      "Epoch 24/50\n",
      "50000/50000 [==============================] - 3s 59us/step - loss: 0.4006 - accuracy: 0.8982 - val_loss: 1.7851 - val_accuracy: 0.4823\n",
      "Epoch 25/50\n",
      "50000/50000 [==============================] - 3s 59us/step - loss: 0.3860 - accuracy: 0.9025 - val_loss: 1.7927 - val_accuracy: 0.4836\n",
      "Epoch 26/50\n",
      "50000/50000 [==============================] - 3s 59us/step - loss: 0.3716 - accuracy: 0.9080 - val_loss: 1.8056 - val_accuracy: 0.4819\n",
      "Epoch 00026: early stopping\n"
     ]
    }
   ],
   "source": [
    "# 載入 Callbacks\n",
    "\"\"\"Code Here\n",
    "設定 callbacks: Earlystop\n",
    "\"\"\"\n",
    "from keras.callbacks import EarlyStopping\n",
    "\n",
    "results = {}\n",
    "model = build_mlp(x_train.shape[1:])\n",
    "model.summary()\n",
    "optimizer = keras.optimizers.SGD(lr=LEARNING_RATE, momentum=MOMENTUM, nesterov=True)\n",
    "model.compile(loss='categorical_crossentropy', metrics=['accuracy'], optimizer=optimizer)\n",
    "\n",
    "\"\"\"Code Here\n",
    "撰寫你的訓練流程並將結果用 dictionary 紀錄\n",
    "\"\"\"\n",
    "for i in [10,25]:\n",
    "    earlystop = EarlyStopping(monitor=\"val_loss\", \n",
    "                              patience=i, \n",
    "                              verbose=1)\n",
    "    model.fit(x_train, y_train,\n",
    "              epochs=EPOCHS,\n",
    "              batch_size=BATCH_SIZE,\n",
    "              validation_data=[x_test, y_test],\n",
    "              shuffle=True,\n",
    "              callbacks=[earlystop])\n",
    "    \n",
    "    tag_name = 'Early Stop in Patience: %s' % str(i)\n",
    "    \n",
    "    train_loss = model.history.history['loss']\n",
    "    valid_loss = model.history.history['val_loss']\n",
    "    train_acc = model.history.history['accuracy']\n",
    "    valid_acc = model.history.history['val_accuracy']\n",
    "    results[tag_name] = {'train_loss':train_loss,\n",
    "                         'valid_loss':valid_loss,\n",
    "                         'train_acc':train_acc,\n",
    "                         'valid_acc':valid_acc,}\n",
    "    \n"
   ]
  },
  {
   "cell_type": "code",
   "execution_count": 8,
   "metadata": {},
   "outputs": [
    {
     "data": {
      "image/png": "[encoded data removed]",
      "text/plain": [
       "<Figure size 576x432 with 1 Axes>"
      ]
     },
     "metadata": {
      "needs_background": "light"
     },
     "output_type": "display_data"
    },
    {
     "data": {
      "image/png": "[encoded data removed]",
      "text/plain": [
       "<Figure size 576x432 with 1 Axes>"
      ]
     },
     "metadata": {
      "needs_background": "light"
     },
     "output_type": "display_data"
    }
   ],
   "source": [
    "import matplotlib.pyplot as plt\n",
    "%matplotlib inline\n",
    "import matplotlib.cm as mplcm\n",
    "import matplotlib.colors as colors\n",
    "\"\"\"Code Here\n",
    "將結果繪出\n",
    "\"\"\"\n",
    "color_bar = ['r', 'b', 'g', 'purple']\n",
    "\n",
    "plt.figure(figsize=(8,6))\n",
    "for i, cond in enumerate(results.keys()):\n",
    "    plt.plot(range(len(results[cond]['train_loss'])),results[cond]['train_loss'], '-', label=cond, color=color_bar[i])\n",
    "    plt.plot(range(len(results[cond]['valid_loss'])),results[cond]['valid_loss'], '--', label=cond, color=color_bar[i])\n",
    "plt.title(\"Loss\")\n",
    "plt.ylim([0, 5])\n",
    "plt.legend()\n",
    "plt.show()\n",
    "\n",
    "plt.figure(figsize=(8,6))\n",
    "for i, cond in enumerate(results.keys()):\n",
    "    plt.plot(range(len(results[cond]['train_acc'])),results[cond]['train_acc'], '-', label=cond, color=color_bar[i])\n",
    "    plt.plot(range(len(results[cond]['valid_acc'])),results[cond]['valid_acc'], '--', label=cond, color=color_bar[i])\n",
    "plt.title(\"Accuracy\")\n",
    "plt.legend()\n",
    "plt.show()"
   ]
  }
 ],
 "metadata": {
  "kernelspec": {
   "display_name": "Python 3",
   "language": "python",
   "name": "python3"
  },
  "language_info": {
   "codemirror_mode": {
    "name": "ipython",
    "version": 3
   },
   "file_extension": ".py",
   "mimetype": "text/x-python",
   "name": "python",
   "nbconvert_exporter": "python",
   "pygments_lexer": "ipython3",
   "version": "3.7.3"
  }
 },
 "nbformat": 4,
 "nbformat_minor": 2
}
