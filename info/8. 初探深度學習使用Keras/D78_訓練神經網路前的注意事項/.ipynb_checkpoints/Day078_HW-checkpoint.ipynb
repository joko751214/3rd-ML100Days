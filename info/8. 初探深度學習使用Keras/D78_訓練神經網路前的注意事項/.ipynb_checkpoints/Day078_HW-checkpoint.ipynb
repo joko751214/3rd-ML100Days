{
 "cells": [
  {
   "cell_type": "markdown",
   "metadata": {},
   "source": [
    "## Work\n",
    "1. 請嘗試將 preproc_x 替換成以每筆資料的 min/max 進行標準化至 -1 ~ 1 間，再進行訓練\n",
    "2. 請嘗試將 mlp 疊更深 (e.g 5~10 層)，進行訓練後觀察 learning curve 的走勢\n",
    "3. (optional) 請改用 GPU 進行訓練 (如果你有 GPU 的話)，比較使用 CPU 與 GPU 的訓練速度"
   ]
  },
  {
   "cell_type": "code",
   "execution_count": 1,
   "metadata": {},
   "outputs": [
    {
     "name": "stderr",
     "output_type": "stream",
     "text": [
      "'nvidia-smi.exe' 不是內部或外部命令、可執行的程式或批次檔。\n"
     ]
    }
   ],
   "source": [
    "## \n",
    "\"\"\"\n",
    "Your code here (optional)\n",
    "確認硬體資源\n",
    "\"\"\"\n",
    "!nvidia-smi.exe -l 1"
   ]
  },
  {
   "cell_type": "code",
   "execution_count": 2,
   "metadata": {},
   "outputs": [
    {
     "name": "stderr",
     "output_type": "stream",
     "text": [
      "Using TensorFlow backend.\n"
     ]
    }
   ],
   "source": [
    "import os\n",
    "import keras\n",
    "import numpy as np\n",
    "\n",
    "# 請嘗試設定 GPU：os.environ\n",
    "os.environ[\"CUDA_VISIBLE_DEVICES\"] = \"\""
   ]
  },
  {
   "cell_type": "code",
   "execution_count": 3,
   "metadata": {},
   "outputs": [],
   "source": [
    "train, test = keras.datasets.cifar10.load_data()"
   ]
  },
  {
   "cell_type": "code",
   "execution_count": 6,
   "metadata": {},
   "outputs": [],
   "source": [
    "## 資料前處理\n",
    "\"\"\"\n",
    "Your code here\n",
    "\"\"\"\n",
    "def preproc_x(x, flatten=True):\n",
    "    x = ((x - x.min()) / (x.max() - x.min())) * 2.0 - 1.0\n",
    "    if flatten:\n",
    "        x = x.reshape((len(x), -1))\n",
    "    return x\n",
    "\n",
    "def preproc_y(y, num_classes=10):\n",
    "    if y.shape[-1] == 1:\n",
    "        y = keras.utils.to_categorical(y, num_classes)\n",
    "    return y"
   ]
  },
  {
   "cell_type": "code",
   "execution_count": 11,
   "metadata": {},
   "outputs": [
    {
     "name": "stdout",
     "output_type": "stream",
     "text": [
      "(50000, 3072)\n"
     ]
    }
   ],
   "source": [
    "x_train, y_train = train\n",
    "x_test, y_test = test\n",
    "\n",
    "# Preproc the inputs\n",
    "x_train = preproc_x(x_train)\n",
    "x_test = preproc_x(x_test)\n",
    "\n",
    "# Preprc the outputs\n",
    "y_train = preproc_y(y_train)\n",
    "y_test = preproc_y(y_test)"
   ]
  },
  {
   "cell_type": "code",
   "execution_count": 9,
   "metadata": {},
   "outputs": [
    {
     "name": "stdout",
     "output_type": "stream",
     "text": [
      "Model: \"model_1\"\n",
      "_________________________________________________________________\n",
      "Layer (type)                 Output Shape              Param #   \n",
      "=================================================================\n",
      "input_1 (InputLayer)         (None, 3072)              0         \n",
      "_________________________________________________________________\n",
      "hidden_layer1 (Dense)        (None, 512)               1573376   \n",
      "_________________________________________________________________\n",
      "hidden_layer2 (Dense)        (None, 256)               131328    \n",
      "_________________________________________________________________\n",
      "hidden_layer3 (Dense)        (None, 128)               32896     \n",
      "_________________________________________________________________\n",
      "hidden_layer4 (Dense)        (None, 64)                8256      \n",
      "_________________________________________________________________\n",
      "hidden_layer5 (Dense)        (None, 32)                2080      \n",
      "_________________________________________________________________\n",
      "output (Dense)               (None, 10)                330       \n",
      "=================================================================\n",
      "Total params: 1,748,266\n",
      "Trainable params: 1,748,266\n",
      "Non-trainable params: 0\n",
      "_________________________________________________________________\n"
     ]
    }
   ],
   "source": [
    "\"\"\"Code Here\n",
    "建立你的神經網路\n",
    "\"\"\"\n",
    "def build_mlp(input_shape, output_units=10, num_neurons=[512, 256, 128, 64, 32]):\n",
    "    input_layer = keras.layers.Input(input_shape)\n",
    "    \n",
    "    for i, n_units in enumerate(num_neurons):\n",
    "        if i == 0:\n",
    "            x = keras.layers.Dense(units=n_units, activation=\"relu\", name=\"hidden_layer\"+str(i+1))(input_layer)\n",
    "        else:\n",
    "            x = keras.layers.Dense(units=n_units, activation=\"relu\", name=\"hidden_layer\"+str(i+1))(x)\n",
    "    \n",
    "    out = keras.layers.Dense(units=output_units, activation=\"softmax\", name=\"output\")(x)\n",
    "    \n",
    "    model = keras.models.Model(inputs=[input_layer], outputs=[out])\n",
    "    return model\n",
    "\n",
    "model = build_mlp(input_shape=x_train.shape[1:])\n",
    "model.summary()"
   ]
  },
  {
   "cell_type": "code",
   "execution_count": 12,
   "metadata": {},
   "outputs": [],
   "source": [
    "## 超參數設定\n",
    "LEARNING_RATE = 0.001\n",
    "EPOCHS = 100\n",
    "BATCH_SIZE = 256"
   ]
  },
  {
   "cell_type": "code",
   "execution_count": 13,
   "metadata": {},
   "outputs": [],
   "source": [
    "optimizer = keras.optimizers.Adam(lr=LEARNING_RATE)\n",
    "model.compile(loss=\"categorical_crossentropy\", metrics=[\"accuracy\"], optimizer=optimizer)"
   ]
  },
  {
   "cell_type": "code",
   "execution_count": 14,
   "metadata": {
    "scrolled": true
   },
   "outputs": [
    {
     "name": "stdout",
     "output_type": "stream",
     "text": [
      "WARNING:tensorflow:From C:\\Users\\infiark\\Anaconda3\\lib\\site-packages\\keras\\backend\\tensorflow_backend.py:422: The name tf.global_variables is deprecated. Please use tf.compat.v1.global_variables instead.\n",
      "\n",
      "Train on 50000 samples, validate on 10000 samples\n",
      "Epoch 1/100\n",
      "50000/50000 [==============================] - 6s 113us/step - loss: 1.7310 - accuracy: 0.3900 - val_loss: 1.5435 - val_accuracy: 0.4537\n",
      "Epoch 2/100\n",
      "50000/50000 [==============================] - 5s 106us/step - loss: 1.4808 - accuracy: 0.4779 - val_loss: 1.4592 - val_accuracy: 0.4871\n",
      "Epoch 3/100\n",
      "50000/50000 [==============================] - 5s 106us/step - loss: 1.3649 - accuracy: 0.5200 - val_loss: 1.3974 - val_accuracy: 0.5080\n",
      "Epoch 4/100\n",
      "50000/50000 [==============================] - 5s 106us/step - loss: 1.2650 - accuracy: 0.5564 - val_loss: 1.3827 - val_accuracy: 0.5155\n",
      "Epoch 5/100\n",
      "50000/50000 [==============================] - 5s 106us/step - loss: 1.1823 - accuracy: 0.5856 - val_loss: 1.3719 - val_accuracy: 0.5238\n",
      "Epoch 6/100\n",
      "50000/50000 [==============================] - 5s 106us/step - loss: 1.1103 - accuracy: 0.6051 - val_loss: 1.3545 - val_accuracy: 0.5332\n",
      "Epoch 7/100\n",
      "50000/50000 [==============================] - 5s 107us/step - loss: 1.0344 - accuracy: 0.6364 - val_loss: 1.3625 - val_accuracy: 0.5325\n",
      "Epoch 8/100\n",
      "50000/50000 [==============================] - 5s 107us/step - loss: 0.9560 - accuracy: 0.6622 - val_loss: 1.4030 - val_accuracy: 0.5306\n",
      "Epoch 9/100\n",
      "50000/50000 [==============================] - 5s 108us/step - loss: 0.8867 - accuracy: 0.6879 - val_loss: 1.4375 - val_accuracy: 0.5349\n",
      "Epoch 10/100\n",
      "50000/50000 [==============================] - 5s 107us/step - loss: 0.8274 - accuracy: 0.7098 - val_loss: 1.4456 - val_accuracy: 0.5319\n",
      "Epoch 11/100\n",
      "50000/50000 [==============================] - 5s 106us/step - loss: 0.7560 - accuracy: 0.7331 - val_loss: 1.5474 - val_accuracy: 0.5266\n",
      "Epoch 12/100\n",
      "50000/50000 [==============================] - 5s 107us/step - loss: 0.7043 - accuracy: 0.7502 - val_loss: 1.5203 - val_accuracy: 0.5338\n",
      "Epoch 13/100\n",
      "50000/50000 [==============================] - 5s 106us/step - loss: 0.6343 - accuracy: 0.7760 - val_loss: 1.6410 - val_accuracy: 0.5380\n",
      "Epoch 14/100\n",
      "50000/50000 [==============================] - 5s 107us/step - loss: 0.5828 - accuracy: 0.7928 - val_loss: 1.7161 - val_accuracy: 0.5259\n",
      "Epoch 15/100\n",
      "50000/50000 [==============================] - 5s 109us/step - loss: 0.5274 - accuracy: 0.8132 - val_loss: 1.7865 - val_accuracy: 0.5248\n",
      "Epoch 16/100\n",
      "50000/50000 [==============================] - 5s 107us/step - loss: 0.4858 - accuracy: 0.8284 - val_loss: 1.8846 - val_accuracy: 0.5298\n",
      "Epoch 17/100\n",
      "50000/50000 [==============================] - 5s 107us/step - loss: 0.4387 - accuracy: 0.8450 - val_loss: 1.9468 - val_accuracy: 0.5308\n",
      "Epoch 18/100\n",
      "50000/50000 [==============================] - 5s 106us/step - loss: 0.4091 - accuracy: 0.8561 - val_loss: 2.1051 - val_accuracy: 0.5274\n",
      "Epoch 19/100\n",
      "50000/50000 [==============================] - 5s 106us/step - loss: 0.3780 - accuracy: 0.8681 - val_loss: 2.1898 - val_accuracy: 0.5250\n",
      "Epoch 20/100\n",
      "50000/50000 [==============================] - 5s 106us/step - loss: 0.3511 - accuracy: 0.8773 - val_loss: 2.2599 - val_accuracy: 0.5329\n",
      "Epoch 21/100\n",
      "50000/50000 [==============================] - 5s 106us/step - loss: 0.3078 - accuracy: 0.8923 - val_loss: 2.3762 - val_accuracy: 0.5333\n",
      "Epoch 22/100\n",
      "50000/50000 [==============================] - 5s 106us/step - loss: 0.3093 - accuracy: 0.8925 - val_loss: 2.4552 - val_accuracy: 0.5276\n",
      "Epoch 23/100\n",
      "50000/50000 [==============================] - 5s 108us/step - loss: 0.2800 - accuracy: 0.9018 - val_loss: 2.5245 - val_accuracy: 0.5338\n",
      "Epoch 24/100\n",
      "50000/50000 [==============================] - 5s 108us/step - loss: 0.2458 - accuracy: 0.9140 - val_loss: 2.6136 - val_accuracy: 0.5355\n",
      "Epoch 25/100\n",
      "50000/50000 [==============================] - 5s 107us/step - loss: 0.2445 - accuracy: 0.9147 - val_loss: 2.6493 - val_accuracy: 0.5187\n",
      "Epoch 26/100\n",
      "50000/50000 [==============================] - 5s 107us/step - loss: 0.2406 - accuracy: 0.9173 - val_loss: 2.7072 - val_accuracy: 0.5265\n",
      "Epoch 27/100\n",
      "50000/50000 [==============================] - 5s 106us/step - loss: 0.2229 - accuracy: 0.9236 - val_loss: 2.8408 - val_accuracy: 0.5249\n",
      "Epoch 28/100\n",
      "50000/50000 [==============================] - 5s 107us/step - loss: 0.2225 - accuracy: 0.9228 - val_loss: 2.8672 - val_accuracy: 0.5255\n",
      "Epoch 29/100\n",
      "50000/50000 [==============================] - 5s 109us/step - loss: 0.1814 - accuracy: 0.9366 - val_loss: 3.1212 - val_accuracy: 0.5175\n",
      "Epoch 30/100\n",
      "50000/50000 [==============================] - 5s 109us/step - loss: 0.1880 - accuracy: 0.9350 - val_loss: 3.1597 - val_accuracy: 0.5171\n",
      "Epoch 31/100\n",
      "50000/50000 [==============================] - 5s 109us/step - loss: 0.1889 - accuracy: 0.9340 - val_loss: 3.1536 - val_accuracy: 0.5215\n",
      "Epoch 32/100\n",
      "50000/50000 [==============================] - 6s 111us/step - loss: 0.1845 - accuracy: 0.9371 - val_loss: 3.2385 - val_accuracy: 0.5248\n",
      "Epoch 33/100\n",
      "50000/50000 [==============================] - 5s 105us/step - loss: 0.1729 - accuracy: 0.9414 - val_loss: 3.2377 - val_accuracy: 0.5259\n",
      "Epoch 34/100\n",
      "50000/50000 [==============================] - 5s 106us/step - loss: 0.1597 - accuracy: 0.9450 - val_loss: 3.3793 - val_accuracy: 0.5198\n",
      "Epoch 35/100\n",
      "50000/50000 [==============================] - 5s 105us/step - loss: 0.1678 - accuracy: 0.9419 - val_loss: 3.4368 - val_accuracy: 0.5203\n",
      "Epoch 36/100\n",
      "50000/50000 [==============================] - 5s 106us/step - loss: 0.1770 - accuracy: 0.9398 - val_loss: 3.3911 - val_accuracy: 0.5277\n",
      "Epoch 37/100\n",
      "50000/50000 [==============================] - 5s 105us/step - loss: 0.1463 - accuracy: 0.9504 - val_loss: 3.4282 - val_accuracy: 0.5362\n",
      "Epoch 38/100\n",
      "50000/50000 [==============================] - 5s 106us/step - loss: 0.1237 - accuracy: 0.9581 - val_loss: 3.5195 - val_accuracy: 0.5232\n",
      "Epoch 39/100\n",
      "50000/50000 [==============================] - 5s 105us/step - loss: 0.1597 - accuracy: 0.9462 - val_loss: 3.5372 - val_accuracy: 0.5270\n",
      "Epoch 40/100\n",
      "50000/50000 [==============================] - 5s 106us/step - loss: 0.1444 - accuracy: 0.9514 - val_loss: 3.4434 - val_accuracy: 0.5229\n",
      "Epoch 41/100\n",
      "50000/50000 [==============================] - 5s 106us/step - loss: 0.1269 - accuracy: 0.9574 - val_loss: 3.6445 - val_accuracy: 0.5276\n",
      "Epoch 42/100\n",
      "50000/50000 [==============================] - 5s 106us/step - loss: 0.1076 - accuracy: 0.9632 - val_loss: 3.7647 - val_accuracy: 0.5309\n",
      "Epoch 43/100\n",
      "50000/50000 [==============================] - 5s 106us/step - loss: 0.1436 - accuracy: 0.9512 - val_loss: 3.7124 - val_accuracy: 0.5280\n",
      "Epoch 44/100\n",
      "50000/50000 [==============================] - 5s 107us/step - loss: 0.1321 - accuracy: 0.9551 - val_loss: 3.7973 - val_accuracy: 0.5209\n",
      "Epoch 45/100\n",
      "50000/50000 [==============================] - 5s 108us/step - loss: 0.1536 - accuracy: 0.9485 - val_loss: 3.6187 - val_accuracy: 0.5289\n",
      "Epoch 46/100\n",
      "50000/50000 [==============================] - 5s 100us/step - loss: 0.0943 - accuracy: 0.9675 - val_loss: 3.9400 - val_accuracy: 0.5184\n",
      "Epoch 47/100\n",
      "50000/50000 [==============================] - 5s 103us/step - loss: 0.1105 - accuracy: 0.9631 - val_loss: 3.9025 - val_accuracy: 0.5288\n",
      "Epoch 48/100\n",
      "50000/50000 [==============================] - 5s 103us/step - loss: 0.1285 - accuracy: 0.9579 - val_loss: 3.7278 - val_accuracy: 0.5255\n",
      "Epoch 49/100\n",
      "50000/50000 [==============================] - 5s 101us/step - loss: 0.1116 - accuracy: 0.9620 - val_loss: 3.7999 - val_accuracy: 0.5290\n",
      "Epoch 50/100\n",
      "50000/50000 [==============================] - 5s 101us/step - loss: 0.0947 - accuracy: 0.9679 - val_loss: 3.9980 - val_accuracy: 0.5234\n",
      "Epoch 51/100\n",
      "50000/50000 [==============================] - 5s 101us/step - loss: 0.1322 - accuracy: 0.9552 - val_loss: 3.9044 - val_accuracy: 0.5273\n",
      "Epoch 52/100\n",
      "50000/50000 [==============================] - 5s 105us/step - loss: 0.1150 - accuracy: 0.9621 - val_loss: 3.8146 - val_accuracy: 0.5288\n",
      "Epoch 53/100\n",
      "50000/50000 [==============================] - 5s 101us/step - loss: 0.0991 - accuracy: 0.9680 - val_loss: 4.0342 - val_accuracy: 0.5273\n"
     ]
    },
    {
     "name": "stdout",
     "output_type": "stream",
     "text": [
      "Epoch 54/100\n",
      "50000/50000 [==============================] - 5s 100us/step - loss: 0.1277 - accuracy: 0.9586 - val_loss: 3.8321 - val_accuracy: 0.5244\n",
      "Epoch 55/100\n",
      "50000/50000 [==============================] - 5s 101us/step - loss: 0.0948 - accuracy: 0.9688 - val_loss: 4.0314 - val_accuracy: 0.5247\n",
      "Epoch 56/100\n",
      "50000/50000 [==============================] - 5s 100us/step - loss: 0.0938 - accuracy: 0.9690 - val_loss: 4.1653 - val_accuracy: 0.5277\n",
      "Epoch 57/100\n",
      "50000/50000 [==============================] - 5s 100us/step - loss: 0.0932 - accuracy: 0.9697 - val_loss: 4.2083 - val_accuracy: 0.5304\n",
      "Epoch 58/100\n",
      "50000/50000 [==============================] - 5s 100us/step - loss: 0.0853 - accuracy: 0.9707 - val_loss: 4.2586 - val_accuracy: 0.5242\n",
      "Epoch 59/100\n",
      "50000/50000 [==============================] - 5s 101us/step - loss: 0.1006 - accuracy: 0.9679 - val_loss: 4.1794 - val_accuracy: 0.5253\n",
      "Epoch 60/100\n",
      "50000/50000 [==============================] - 5s 101us/step - loss: 0.1039 - accuracy: 0.9659 - val_loss: 4.1009 - val_accuracy: 0.5208\n",
      "Epoch 61/100\n",
      "50000/50000 [==============================] - 5s 100us/step - loss: 0.0859 - accuracy: 0.9713 - val_loss: 4.1154 - val_accuracy: 0.5298\n",
      "Epoch 62/100\n",
      "50000/50000 [==============================] - 5s 100us/step - loss: 0.0846 - accuracy: 0.9726 - val_loss: 4.2989 - val_accuracy: 0.5207\n",
      "Epoch 63/100\n",
      "50000/50000 [==============================] - 5s 101us/step - loss: 0.1061 - accuracy: 0.9654 - val_loss: 4.2400 - val_accuracy: 0.5227\n",
      "Epoch 64/100\n",
      "50000/50000 [==============================] - 5s 101us/step - loss: 0.1027 - accuracy: 0.9661 - val_loss: 4.2255 - val_accuracy: 0.5296\n",
      "Epoch 65/100\n",
      "50000/50000 [==============================] - 5s 101us/step - loss: 0.0721 - accuracy: 0.9760 - val_loss: 4.3573 - val_accuracy: 0.5221\n",
      "Epoch 66/100\n",
      "50000/50000 [==============================] - 5s 100us/step - loss: 0.0941 - accuracy: 0.9693 - val_loss: 4.4139 - val_accuracy: 0.5245\n",
      "Epoch 67/100\n",
      "50000/50000 [==============================] - 5s 100us/step - loss: 0.1102 - accuracy: 0.9639 - val_loss: 4.1194 - val_accuracy: 0.5252\n",
      "Epoch 68/100\n",
      "50000/50000 [==============================] - 5s 101us/step - loss: 0.0823 - accuracy: 0.9728 - val_loss: 4.1706 - val_accuracy: 0.5300\n",
      "Epoch 69/100\n",
      "50000/50000 [==============================] - 5s 103us/step - loss: 0.0681 - accuracy: 0.9780 - val_loss: 4.4657 - val_accuracy: 0.5307\n",
      "Epoch 70/100\n",
      "50000/50000 [==============================] - 5s 101us/step - loss: 0.1113 - accuracy: 0.9640 - val_loss: 4.0390 - val_accuracy: 0.5211\n",
      "Epoch 71/100\n",
      "50000/50000 [==============================] - 5s 102us/step - loss: 0.0846 - accuracy: 0.9717 - val_loss: 4.2951 - val_accuracy: 0.5286\n",
      "Epoch 72/100\n",
      "50000/50000 [==============================] - 5s 101us/step - loss: 0.0724 - accuracy: 0.9760 - val_loss: 4.3536 - val_accuracy: 0.5274\n",
      "Epoch 73/100\n",
      "50000/50000 [==============================] - 5s 101us/step - loss: 0.0754 - accuracy: 0.9755 - val_loss: 4.3777 - val_accuracy: 0.5241\n",
      "Epoch 74/100\n",
      "50000/50000 [==============================] - 5s 101us/step - loss: 0.0887 - accuracy: 0.9712 - val_loss: 4.2505 - val_accuracy: 0.5273\n",
      "Epoch 75/100\n",
      "50000/50000 [==============================] - 5s 102us/step - loss: 0.0890 - accuracy: 0.9710 - val_loss: 4.1882 - val_accuracy: 0.5302\n",
      "Epoch 76/100\n",
      "50000/50000 [==============================] - 5s 106us/step - loss: 0.0543 - accuracy: 0.9830 - val_loss: 4.3735 - val_accuracy: 0.5269\n",
      "Epoch 77/100\n",
      "50000/50000 [==============================] - 5s 103us/step - loss: 0.0919 - accuracy: 0.9708 - val_loss: 4.2798 - val_accuracy: 0.5300\n",
      "Epoch 78/100\n",
      "50000/50000 [==============================] - 5s 102us/step - loss: 0.0842 - accuracy: 0.9727 - val_loss: 4.4542 - val_accuracy: 0.5301\n",
      "Epoch 79/100\n",
      "50000/50000 [==============================] - 5s 101us/step - loss: 0.0483 - accuracy: 0.9837 - val_loss: 4.6909 - val_accuracy: 0.5356\n",
      "Epoch 80/100\n",
      "50000/50000 [==============================] - 5s 101us/step - loss: 0.1022 - accuracy: 0.9680 - val_loss: 4.2953 - val_accuracy: 0.5279\n",
      "Epoch 81/100\n",
      "50000/50000 [==============================] - 5s 101us/step - loss: 0.0870 - accuracy: 0.9722 - val_loss: 4.2326 - val_accuracy: 0.5286\n",
      "Epoch 82/100\n",
      "50000/50000 [==============================] - 5s 101us/step - loss: 0.0541 - accuracy: 0.9825 - val_loss: 4.4502 - val_accuracy: 0.5279\n",
      "Epoch 83/100\n",
      "50000/50000 [==============================] - 5s 101us/step - loss: 0.0464 - accuracy: 0.9851 - val_loss: 4.5280 - val_accuracy: 0.5270\n",
      "Epoch 84/100\n",
      "50000/50000 [==============================] - 5s 101us/step - loss: 0.0791 - accuracy: 0.9739 - val_loss: 4.6299 - val_accuracy: 0.5276\n",
      "Epoch 85/100\n",
      "50000/50000 [==============================] - 5s 101us/step - loss: 0.0930 - accuracy: 0.9698 - val_loss: 4.1544 - val_accuracy: 0.5268\n",
      "Epoch 86/100\n",
      "50000/50000 [==============================] - 5s 101us/step - loss: 0.0645 - accuracy: 0.9790 - val_loss: 4.6037 - val_accuracy: 0.5333\n",
      "Epoch 87/100\n",
      "50000/50000 [==============================] - 5s 101us/step - loss: 0.0656 - accuracy: 0.9784 - val_loss: 4.4727 - val_accuracy: 0.5272\n",
      "Epoch 88/100\n",
      "50000/50000 [==============================] - 5s 101us/step - loss: 0.0805 - accuracy: 0.9740 - val_loss: 4.4455 - val_accuracy: 0.5212\n",
      "Epoch 89/100\n",
      "50000/50000 [==============================] - 5s 105us/step - loss: 0.0934 - accuracy: 0.9697 - val_loss: 4.3333 - val_accuracy: 0.5283\n",
      "Epoch 90/100\n",
      "50000/50000 [==============================] - 5s 101us/step - loss: 0.0582 - accuracy: 0.9810 - val_loss: 4.6510 - val_accuracy: 0.5337\n",
      "Epoch 91/100\n",
      "50000/50000 [==============================] - 5s 101us/step - loss: 0.0468 - accuracy: 0.9851 - val_loss: 4.6743 - val_accuracy: 0.5327\n",
      "Epoch 92/100\n",
      "50000/50000 [==============================] - 5s 101us/step - loss: 0.0673 - accuracy: 0.9784 - val_loss: 4.5440 - val_accuracy: 0.5285\n",
      "Epoch 93/100\n",
      "50000/50000 [==============================] - 5s 103us/step - loss: 0.0768 - accuracy: 0.9754 - val_loss: 4.5595 - val_accuracy: 0.5154\n",
      "Epoch 94/100\n",
      "50000/50000 [==============================] - 5s 104us/step - loss: 0.0620 - accuracy: 0.9800 - val_loss: 4.7248 - val_accuracy: 0.5253\n",
      "Epoch 95/100\n",
      "50000/50000 [==============================] - 5s 103us/step - loss: 0.0751 - accuracy: 0.9751 - val_loss: 4.4647 - val_accuracy: 0.5255\n",
      "Epoch 96/100\n",
      "50000/50000 [==============================] - 5s 104us/step - loss: 0.0751 - accuracy: 0.9757 - val_loss: 4.4532 - val_accuracy: 0.5316\n",
      "Epoch 97/100\n",
      "50000/50000 [==============================] - 5s 103us/step - loss: 0.0596 - accuracy: 0.9807 - val_loss: 4.5854 - val_accuracy: 0.5292\n",
      "Epoch 98/100\n",
      "50000/50000 [==============================] - 5s 104us/step - loss: 0.0691 - accuracy: 0.9786 - val_loss: 4.5407 - val_accuracy: 0.5339\n",
      "Epoch 99/100\n",
      "50000/50000 [==============================] - 5s 108us/step - loss: 0.0548 - accuracy: 0.9818 - val_loss: 4.6636 - val_accuracy: 0.5247\n",
      "Epoch 100/100\n",
      "50000/50000 [==============================] - 5s 106us/step - loss: 0.0414 - accuracy: 0.9867 - val_loss: 4.8560 - val_accuracy: 0.5332\n"
     ]
    },
    {
     "data": {
      "text/plain": [
       "<keras.callbacks.callbacks.History at 0x29badc88>"
      ]
     },
     "execution_count": 14,
     "metadata": {},
     "output_type": "execute_result"
    }
   ],
   "source": [
    "model.fit(x_train, y_train, \n",
    "          epochs=EPOCHS, \n",
    "          batch_size=BATCH_SIZE, \n",
    "          validation_data=(x_test, y_test), \n",
    "          shuffle=True)"
   ]
  },
  {
   "cell_type": "code",
   "execution_count": 16,
   "metadata": {},
   "outputs": [
    {
     "data": {
      "image/png": "[encoded data removed]",
      "text/plain": [
       "<Figure size 432x288 with 1 Axes>"
      ]
     },
     "metadata": {
      "needs_background": "light"
     },
     "output_type": "display_data"
    },
    {
     "data": {
      "image/png": "[encoded data removed]",
      "text/plain": [
       "<Figure size 432x288 with 1 Axes>"
      ]
     },
     "metadata": {
      "needs_background": "light"
     },
     "output_type": "display_data"
    }
   ],
   "source": [
    "import matplotlib.pyplot as plt\n",
    "\n",
    "\n",
    "train_loss = model.history.history[\"loss\"]\n",
    "valid_loss = model.history.history[\"val_loss\"]\n",
    "\n",
    "train_acc = model.history.history[\"accuracy\"]\n",
    "valid_acc = model.history.history[\"val_accuracy\"]\n",
    "\n",
    "plt.plot(range(len(train_loss)), train_loss, label=\"train loss\")\n",
    "plt.plot(range(len(valid_loss)), valid_loss, label=\"valid loss\")\n",
    "plt.legend()\n",
    "plt.title(\"Loss\")\n",
    "plt.show()\n",
    "\n",
    "plt.plot(range(len(train_acc)), train_acc, label=\"train accuracy\")\n",
    "plt.plot(range(len(valid_acc)), valid_acc, label=\"valid accuracy\")\n",
    "plt.legend()\n",
    "plt.title(\"Accuracy\")\n",
    "plt.show()"
   ]
  }
 ],
 "metadata": {
  "kernelspec": {
   "display_name": "Python 3",
   "language": "python",
   "name": "python3"
  },
  "language_info": {
   "codemirror_mode": {
    "name": "ipython",
    "version": 3
   },
   "file_extension": ".py",
   "mimetype": "text/x-python",
   "name": "python",
   "nbconvert_exporter": "python",
   "pygments_lexer": "ipython3",
   "version": "3.7.3"
  }
 },
 "nbformat": 4,
 "nbformat_minor": 2
}
