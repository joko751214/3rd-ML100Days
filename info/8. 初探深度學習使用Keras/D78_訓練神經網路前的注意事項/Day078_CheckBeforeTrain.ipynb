{
 "cells": [
  {
   "cell_type": "markdown",
   "metadata": {},
   "source": [
    "## 範例重點\n",
    "### 學習在模型開始前檢查各個環節\n",
    "1. 是否有 GPU 資源\n",
    "2. 將前處理轉為函式，統一處理訓練、驗證與測試集\n",
    "3. 將超參數變數化，易於重複使用函式、模型等"
   ]
  },
  {
   "cell_type": "code",
   "execution_count": 1,
   "metadata": {},
   "outputs": [
    {
     "name": "stderr",
     "output_type": "stream",
     "text": [
      "'nvidia-smi' 不是內部或外部命令、可執行的程式或批次檔。\n"
     ]
    }
   ],
   "source": [
    "## 確認硬體資源 (如果你是在 Linux, 若是在 Windows, 請參考 https://blog.csdn.net/idwtwt/article/details/78017565)\n",
    "!nvidia-smi"
   ]
  },
  {
   "cell_type": "code",
   "execution_count": 2,
   "metadata": {},
   "outputs": [
    {
     "name": "stderr",
     "output_type": "stream",
     "text": [
      "Using TensorFlow backend.\n"
     ]
    }
   ],
   "source": [
    "import os\n",
    "import keras\n",
    "\n",
    "# 本範例不需使用 GPU, 將 GPU 設定為 \"無\"\n",
    "os.environ[\"CUDA_VISIBLE_DEVICES\"] = \"\""
   ]
  },
  {
   "cell_type": "code",
   "execution_count": 3,
   "metadata": {},
   "outputs": [],
   "source": [
    "# 從 Keras 的內建功能中，取得 train 與 test 資料集\n",
    "train, test = keras.datasets.cifar10.load_data()"
   ]
  },
  {
   "cell_type": "code",
   "execution_count": 4,
   "metadata": {},
   "outputs": [],
   "source": [
    "## 資料前處理\n",
    "def preproc_x(x, flatten=True):\n",
    "    x = x / 255.\n",
    "    if flatten:\n",
    "        x = x.reshape((len(x), -1))\n",
    "    return x\n",
    "\n",
    "def preproc_y(y, num_classes=10):\n",
    "    if y.shape[-1] == 1:\n",
    "        y = keras.utils.to_categorical(y, num_classes)\n",
    "    return y    "
   ]
  },
  {
   "cell_type": "code",
   "execution_count": 7,
   "metadata": {},
   "outputs": [
    {
     "name": "stdout",
     "output_type": "stream",
     "text": [
      "(3072,)\n"
     ]
    }
   ],
   "source": [
    "x_train, y_train = train\n",
    "x_test, y_test = test\n",
    "\n",
    "# 資料前處理 - X 標準化\n",
    "x_train = preproc_x(x_train)\n",
    "x_test = preproc_x(x_test)\n",
    "\n",
    "# 資料前處理 -Y 轉成 onehot\n",
    "y_train = preproc_y(y_train)\n",
    "y_test = preproc_y(y_test)"
   ]
  },
  {
   "cell_type": "code",
   "execution_count": 8,
   "metadata": {},
   "outputs": [],
   "source": [
    "def build_mlp(input_shape, output_units=10, num_neurons=[512, 256, 128]):\n",
    "    input_layer = keras.layers.Input(input_shape)\n",
    "    \n",
    "    for i, n_units in enumerate(num_neurons):\n",
    "        if i == 0:\n",
    "            x = keras.layers.Dense(units=n_units, activation=\"relu\", name=\"hidden_layer\"+str(i+1))(input_layer)\n",
    "        else:\n",
    "            x = keras.layers.Dense(units=n_units, activation=\"relu\", name=\"hidden_layer\"+str(i+1))(x)\n",
    "    \n",
    "    out = keras.layers.Dense(units=output_units, activation=\"softmax\", name=\"output\")(x)\n",
    "    \n",
    "    model = keras.models.Model(inputs=[input_layer], outputs=[out])\n",
    "    return model"
   ]
  },
  {
   "cell_type": "code",
   "execution_count": 9,
   "metadata": {},
   "outputs": [
    {
     "name": "stdout",
     "output_type": "stream",
     "text": [
      "Model: \"model_1\"\n",
      "_________________________________________________________________\n",
      "Layer (type)                 Output Shape              Param #   \n",
      "=================================================================\n",
      "input_1 (InputLayer)         (None, 3072)              0         \n",
      "_________________________________________________________________\n",
      "hidden_layer1 (Dense)        (None, 512)               1573376   \n",
      "_________________________________________________________________\n",
      "hidden_layer2 (Dense)        (None, 256)               131328    \n",
      "_________________________________________________________________\n",
      "hidden_layer3 (Dense)        (None, 128)               32896     \n",
      "_________________________________________________________________\n",
      "output (Dense)               (None, 10)                1290      \n",
      "=================================================================\n",
      "Total params: 1,738,890\n",
      "Trainable params: 1,738,890\n",
      "Non-trainable params: 0\n",
      "_________________________________________________________________\n"
     ]
    }
   ],
   "source": [
    "model = build_mlp(input_shape=x_train.shape[1:])\n",
    "model.summary()"
   ]
  },
  {
   "cell_type": "code",
   "execution_count": 10,
   "metadata": {},
   "outputs": [],
   "source": [
    "## 超參數設定\n",
    "LEARNING_RATE = 0.001\n",
    "EPOCHS = 100\n",
    "BATCH_SIZE = 256"
   ]
  },
  {
   "cell_type": "code",
   "execution_count": 11,
   "metadata": {},
   "outputs": [],
   "source": [
    "optimizer = keras.optimizers.Adam(lr=LEARNING_RATE)\n",
    "model.compile(loss=\"categorical_crossentropy\", metrics=[\"accuracy\"], optimizer=optimizer)"
   ]
  },
  {
   "cell_type": "code",
   "execution_count": 12,
   "metadata": {
    "scrolled": true
   },
   "outputs": [
    {
     "name": "stdout",
     "output_type": "stream",
     "text": [
      "WARNING:tensorflow:From C:\\Users\\infiark\\Anaconda3\\lib\\site-packages\\keras\\backend\\tensorflow_backend.py:422: The name tf.global_variables is deprecated. Please use tf.compat.v1.global_variables instead.\n",
      "\n",
      "Train on 50000 samples, validate on 10000 samples\n",
      "Epoch 1/100\n",
      "50000/50000 [==============================] - 6s 118us/step - loss: 1.9159 - accuracy: 0.3065 - val_loss: 1.7725 - val_accuracy: 0.3656\n",
      "Epoch 2/100\n",
      "50000/50000 [==============================] - 5s 109us/step - loss: 1.7047 - accuracy: 0.3891 - val_loss: 1.7169 - val_accuracy: 0.3775\n",
      "Epoch 3/100\n",
      "50000/50000 [==============================] - 5s 101us/step - loss: 1.6194 - accuracy: 0.4203 - val_loss: 1.5878 - val_accuracy: 0.4405\n",
      "Epoch 4/100\n",
      "50000/50000 [==============================] - 5s 101us/step - loss: 1.5551 - accuracy: 0.4456 - val_loss: 1.5349 - val_accuracy: 0.4569\n",
      "Epoch 5/100\n",
      "50000/50000 [==============================] - 5s 101us/step - loss: 1.5054 - accuracy: 0.4643 - val_loss: 1.5003 - val_accuracy: 0.4753\n",
      "Epoch 6/100\n",
      "50000/50000 [==============================] - 5s 101us/step - loss: 1.4689 - accuracy: 0.4782 - val_loss: 1.4737 - val_accuracy: 0.4773\n",
      "Epoch 7/100\n",
      "50000/50000 [==============================] - 5s 101us/step - loss: 1.4392 - accuracy: 0.4866 - val_loss: 1.4816 - val_accuracy: 0.4733\n",
      "Epoch 8/100\n",
      "50000/50000 [==============================] - 5s 101us/step - loss: 1.4035 - accuracy: 0.4980 - val_loss: 1.4499 - val_accuracy: 0.4859\n",
      "Epoch 9/100\n",
      "50000/50000 [==============================] - 5s 102us/step - loss: 1.3704 - accuracy: 0.5113 - val_loss: 1.4743 - val_accuracy: 0.4868\n",
      "Epoch 10/100\n",
      "50000/50000 [==============================] - 5s 102us/step - loss: 1.3460 - accuracy: 0.5202 - val_loss: 1.4317 - val_accuracy: 0.4941\n",
      "Epoch 11/100\n",
      "50000/50000 [==============================] - 5s 102us/step - loss: 1.3211 - accuracy: 0.5286 - val_loss: 1.4400 - val_accuracy: 0.4946\n",
      "Epoch 12/100\n",
      "50000/50000 [==============================] - 5s 104us/step - loss: 1.3005 - accuracy: 0.5370 - val_loss: 1.4082 - val_accuracy: 0.5069\n",
      "Epoch 13/100\n",
      "50000/50000 [==============================] - 6s 111us/step - loss: 1.2762 - accuracy: 0.5450 - val_loss: 1.4077 - val_accuracy: 0.5087\n",
      "Epoch 14/100\n",
      "50000/50000 [==============================] - 5s 105us/step - loss: 1.2498 - accuracy: 0.5562 - val_loss: 1.4450 - val_accuracy: 0.4933\n",
      "Epoch 15/100\n",
      "50000/50000 [==============================] - 5s 99us/step - loss: 1.2275 - accuracy: 0.5597 - val_loss: 1.4022 - val_accuracy: 0.5093\n",
      "Epoch 16/100\n",
      "50000/50000 [==============================] - 5s 103us/step - loss: 1.2059 - accuracy: 0.5685 - val_loss: 1.3738 - val_accuracy: 0.5217\n",
      "Epoch 17/100\n",
      "50000/50000 [==============================] - 5s 107us/step - loss: 1.1865 - accuracy: 0.5763 - val_loss: 1.3988 - val_accuracy: 0.5124\n",
      "Epoch 18/100\n",
      "50000/50000 [==============================] - 5s 102us/step - loss: 1.1547 - accuracy: 0.5902 - val_loss: 1.4199 - val_accuracy: 0.5022\n",
      "Epoch 19/100\n",
      "50000/50000 [==============================] - 5s 106us/step - loss: 1.1419 - accuracy: 0.5926 - val_loss: 1.3571 - val_accuracy: 0.5245\n",
      "Epoch 20/100\n",
      "50000/50000 [==============================] - 5s 98us/step - loss: 1.1180 - accuracy: 0.6032 - val_loss: 1.3762 - val_accuracy: 0.5236\n",
      "Epoch 21/100\n",
      "50000/50000 [==============================] - 5s 98us/step - loss: 1.0922 - accuracy: 0.6118 - val_loss: 1.3766 - val_accuracy: 0.5232\n",
      "Epoch 22/100\n",
      "50000/50000 [==============================] - 5s 106us/step - loss: 1.0848 - accuracy: 0.6106 - val_loss: 1.3746 - val_accuracy: 0.5257\n",
      "Epoch 23/100\n",
      "50000/50000 [==============================] - 5s 103us/step - loss: 1.0600 - accuracy: 0.6203 - val_loss: 1.3733 - val_accuracy: 0.5273\n",
      "Epoch 24/100\n",
      "50000/50000 [==============================] - 5s 103us/step - loss: 1.0360 - accuracy: 0.6318 - val_loss: 1.4011 - val_accuracy: 0.5167\n",
      "Epoch 25/100\n",
      "50000/50000 [==============================] - 5s 108us/step - loss: 1.0297 - accuracy: 0.6311 - val_loss: 1.4320 - val_accuracy: 0.5152\n",
      "Epoch 26/100\n",
      "50000/50000 [==============================] - 5s 100us/step - loss: 1.0035 - accuracy: 0.6418 - val_loss: 1.4273 - val_accuracy: 0.5226\n",
      "Epoch 27/100\n",
      "50000/50000 [==============================] - 5s 99us/step - loss: 0.9942 - accuracy: 0.6460 - val_loss: 1.3963 - val_accuracy: 0.5277\n",
      "Epoch 28/100\n",
      "50000/50000 [==============================] - 5s 109us/step - loss: 0.9628 - accuracy: 0.6565 - val_loss: 1.4147 - val_accuracy: 0.5227\n",
      "Epoch 29/100\n",
      "50000/50000 [==============================] - 5s 108us/step - loss: 0.9465 - accuracy: 0.6626 - val_loss: 1.4675 - val_accuracy: 0.5117\n",
      "Epoch 30/100\n",
      "50000/50000 [==============================] - 5s 108us/step - loss: 0.9336 - accuracy: 0.6650 - val_loss: 1.4856 - val_accuracy: 0.5044\n",
      "Epoch 31/100\n",
      "50000/50000 [==============================] - 5s 101us/step - loss: 0.9146 - accuracy: 0.6753 - val_loss: 1.4557 - val_accuracy: 0.5146\n",
      "Epoch 32/100\n",
      "50000/50000 [==============================] - 5s 101us/step - loss: 0.8933 - accuracy: 0.6799 - val_loss: 1.4428 - val_accuracy: 0.5249\n",
      "Epoch 33/100\n",
      "50000/50000 [==============================] - 5s 107us/step - loss: 0.8752 - accuracy: 0.6866 - val_loss: 1.4765 - val_accuracy: 0.5227\n",
      "Epoch 34/100\n",
      "50000/50000 [==============================] - 5s 101us/step - loss: 0.8627 - accuracy: 0.6930 - val_loss: 1.5063 - val_accuracy: 0.5215\n",
      "Epoch 35/100\n",
      "50000/50000 [==============================] - 5s 98us/step - loss: 0.8469 - accuracy: 0.6950 - val_loss: 1.5333 - val_accuracy: 0.5105\n",
      "Epoch 36/100\n",
      "50000/50000 [==============================] - 5s 98us/step - loss: 0.8274 - accuracy: 0.7061 - val_loss: 1.5168 - val_accuracy: 0.5241\n",
      "Epoch 37/100\n",
      "50000/50000 [==============================] - 5s 102us/step - loss: 0.8146 - accuracy: 0.7096 - val_loss: 1.5397 - val_accuracy: 0.5153\n",
      "Epoch 38/100\n",
      "50000/50000 [==============================] - 5s 104us/step - loss: 0.7877 - accuracy: 0.7180 - val_loss: 1.5696 - val_accuracy: 0.5165\n",
      "Epoch 39/100\n",
      "50000/50000 [==============================] - 5s 101us/step - loss: 0.7911 - accuracy: 0.7166 - val_loss: 1.5393 - val_accuracy: 0.5243\n",
      "Epoch 40/100\n",
      "50000/50000 [==============================] - 5s 100us/step - loss: 0.7620 - accuracy: 0.7280 - val_loss: 1.6008 - val_accuracy: 0.5203\n",
      "Epoch 41/100\n",
      "50000/50000 [==============================] - 5s 99us/step - loss: 0.7423 - accuracy: 0.7344 - val_loss: 1.6082 - val_accuracy: 0.5102\n",
      "Epoch 42/100\n",
      "50000/50000 [==============================] - 5s 98us/step - loss: 0.7257 - accuracy: 0.7412 - val_loss: 1.6013 - val_accuracy: 0.5141\n",
      "Epoch 43/100\n",
      "50000/50000 [==============================] - 5s 100us/step - loss: 0.7315 - accuracy: 0.7374 - val_loss: 1.6752 - val_accuracy: 0.5211\n",
      "Epoch 44/100\n",
      "50000/50000 [==============================] - 5s 98us/step - loss: 0.7006 - accuracy: 0.7506 - val_loss: 1.6434 - val_accuracy: 0.5165\n",
      "Epoch 45/100\n",
      "50000/50000 [==============================] - 5s 104us/step - loss: 0.6882 - accuracy: 0.7530 - val_loss: 1.6699 - val_accuracy: 0.5205\n",
      "Epoch 46/100\n",
      "50000/50000 [==============================] - 5s 104us/step - loss: 0.6739 - accuracy: 0.7590 - val_loss: 1.7816 - val_accuracy: 0.5078\n",
      "Epoch 47/100\n",
      "50000/50000 [==============================] - 5s 99us/step - loss: 0.6620 - accuracy: 0.7614 - val_loss: 1.7142 - val_accuracy: 0.5242\n",
      "Epoch 48/100\n",
      "50000/50000 [==============================] - 5s 98us/step - loss: 0.6514 - accuracy: 0.7664 - val_loss: 1.7763 - val_accuracy: 0.5125\n",
      "Epoch 49/100\n",
      "50000/50000 [==============================] - 5s 101us/step - loss: 0.6551 - accuracy: 0.7664 - val_loss: 1.7522 - val_accuracy: 0.5161\n",
      "Epoch 50/100\n",
      "50000/50000 [==============================] - 5s 103us/step - loss: 0.6221 - accuracy: 0.7773 - val_loss: 1.8321 - val_accuracy: 0.5107\n",
      "Epoch 51/100\n",
      "50000/50000 [==============================] - 5s 105us/step - loss: 0.6166 - accuracy: 0.7801 - val_loss: 1.8299 - val_accuracy: 0.5121\n",
      "Epoch 52/100\n",
      "50000/50000 [==============================] - 5s 105us/step - loss: 0.5958 - accuracy: 0.7875 - val_loss: 1.8726 - val_accuracy: 0.5172\n",
      "Epoch 53/100\n",
      "50000/50000 [==============================] - 5s 101us/step - loss: 0.5816 - accuracy: 0.7927 - val_loss: 1.8911 - val_accuracy: 0.5145\n",
      "Epoch 54/100\n"
     ]
    },
    {
     "name": "stdout",
     "output_type": "stream",
     "text": [
      "50000/50000 [==============================] - 5s 102us/step - loss: 0.5724 - accuracy: 0.7950 - val_loss: 1.9184 - val_accuracy: 0.5112\n",
      "Epoch 55/100\n",
      "50000/50000 [==============================] - 5s 102us/step - loss: 0.5570 - accuracy: 0.7985 - val_loss: 1.9448 - val_accuracy: 0.5077\n",
      "Epoch 56/100\n",
      "50000/50000 [==============================] - 5s 100us/step - loss: 0.5473 - accuracy: 0.8046 - val_loss: 2.0128 - val_accuracy: 0.5050\n",
      "Epoch 57/100\n",
      "50000/50000 [==============================] - 5s 98us/step - loss: 0.5318 - accuracy: 0.8097 - val_loss: 1.9873 - val_accuracy: 0.5044\n",
      "Epoch 58/100\n",
      "50000/50000 [==============================] - 5s 98us/step - loss: 0.5270 - accuracy: 0.8142 - val_loss: 2.0377 - val_accuracy: 0.5103\n",
      "Epoch 59/100\n",
      "50000/50000 [==============================] - 5s 102us/step - loss: 0.5239 - accuracy: 0.8125 - val_loss: 2.0488 - val_accuracy: 0.5057\n",
      "Epoch 60/100\n",
      "50000/50000 [==============================] - 5s 99us/step - loss: 0.5090 - accuracy: 0.8193 - val_loss: 2.0616 - val_accuracy: 0.5167\n",
      "Epoch 61/100\n",
      "50000/50000 [==============================] - 5s 98us/step - loss: 0.5066 - accuracy: 0.8183 - val_loss: 2.1479 - val_accuracy: 0.5008\n",
      "Epoch 62/100\n",
      "50000/50000 [==============================] - 5s 98us/step - loss: 0.4823 - accuracy: 0.8281 - val_loss: 2.2037 - val_accuracy: 0.5116\n",
      "Epoch 63/100\n",
      "50000/50000 [==============================] - 5s 98us/step - loss: 0.4763 - accuracy: 0.8295 - val_loss: 2.1488 - val_accuracy: 0.5077\n",
      "Epoch 64/100\n",
      "50000/50000 [==============================] - 5s 98us/step - loss: 0.4819 - accuracy: 0.8275 - val_loss: 2.1782 - val_accuracy: 0.5091\n",
      "Epoch 65/100\n",
      "50000/50000 [==============================] - 5s 99us/step - loss: 0.4611 - accuracy: 0.8341 - val_loss: 2.2332 - val_accuracy: 0.5070\n",
      "Epoch 66/100\n",
      "50000/50000 [==============================] - 5s 99us/step - loss: 0.4448 - accuracy: 0.8395 - val_loss: 2.3368 - val_accuracy: 0.5073\n",
      "Epoch 67/100\n",
      "50000/50000 [==============================] - 5s 100us/step - loss: 0.4608 - accuracy: 0.8345 - val_loss: 2.2743 - val_accuracy: 0.5072\n",
      "Epoch 68/100\n",
      "50000/50000 [==============================] - 5s 100us/step - loss: 0.4266 - accuracy: 0.8471 - val_loss: 2.3329 - val_accuracy: 0.5054\n",
      "Epoch 69/100\n",
      "50000/50000 [==============================] - 5s 101us/step - loss: 0.4210 - accuracy: 0.8490 - val_loss: 2.4024 - val_accuracy: 0.4860\n",
      "Epoch 70/100\n",
      "50000/50000 [==============================] - 5s 100us/step - loss: 0.4245 - accuracy: 0.8484 - val_loss: 2.3777 - val_accuracy: 0.5095\n",
      "Epoch 71/100\n",
      "50000/50000 [==============================] - 5s 107us/step - loss: 0.4148 - accuracy: 0.8496 - val_loss: 2.5643 - val_accuracy: 0.5047\n",
      "Epoch 72/100\n",
      "50000/50000 [==============================] - 5s 101us/step - loss: 0.4220 - accuracy: 0.8480 - val_loss: 2.4270 - val_accuracy: 0.4988\n",
      "Epoch 73/100\n",
      "50000/50000 [==============================] - 5s 109us/step - loss: 0.4007 - accuracy: 0.8574 - val_loss: 2.5110 - val_accuracy: 0.5019\n",
      "Epoch 74/100\n",
      "50000/50000 [==============================] - 5s 109us/step - loss: 0.4066 - accuracy: 0.8537 - val_loss: 2.4943 - val_accuracy: 0.5053\n",
      "Epoch 75/100\n",
      "50000/50000 [==============================] - 6s 124us/step - loss: 0.3672 - accuracy: 0.8696 - val_loss: 2.5683 - val_accuracy: 0.5011\n",
      "Epoch 76/100\n",
      "50000/50000 [==============================] - 5s 109us/step - loss: 0.3744 - accuracy: 0.8661 - val_loss: 2.5223 - val_accuracy: 0.5025\n",
      "Epoch 77/100\n",
      "50000/50000 [==============================] - 5s 103us/step - loss: 0.3653 - accuracy: 0.8710 - val_loss: 2.6318 - val_accuracy: 0.5025\n",
      "Epoch 78/100\n",
      "50000/50000 [==============================] - 5s 100us/step - loss: 0.3699 - accuracy: 0.8655 - val_loss: 2.7721 - val_accuracy: 0.5080\n",
      "Epoch 79/100\n",
      "50000/50000 [==============================] - 5s 100us/step - loss: 0.3688 - accuracy: 0.8679 - val_loss: 2.6925 - val_accuracy: 0.5025\n",
      "Epoch 80/100\n",
      "50000/50000 [==============================] - 5s 102us/step - loss: 0.3435 - accuracy: 0.8766 - val_loss: 2.8090 - val_accuracy: 0.4978\n",
      "Epoch 81/100\n",
      "50000/50000 [==============================] - 5s 101us/step - loss: 0.3496 - accuracy: 0.8747 - val_loss: 2.7765 - val_accuracy: 0.5012\n",
      "Epoch 82/100\n",
      "50000/50000 [==============================] - 5s 99us/step - loss: 0.3512 - accuracy: 0.8748 - val_loss: 2.8404 - val_accuracy: 0.5064\n",
      "Epoch 83/100\n",
      "50000/50000 [==============================] - 5s 99us/step - loss: 0.3352 - accuracy: 0.8803 - val_loss: 2.8619 - val_accuracy: 0.4944\n",
      "Epoch 84/100\n",
      "50000/50000 [==============================] - 5s 99us/step - loss: 0.3493 - accuracy: 0.8743 - val_loss: 2.9241 - val_accuracy: 0.4873\n",
      "Epoch 85/100\n",
      "50000/50000 [==============================] - 5s 99us/step - loss: 0.3410 - accuracy: 0.8776 - val_loss: 2.8796 - val_accuracy: 0.5013\n",
      "Epoch 86/100\n",
      "50000/50000 [==============================] - 5s 99us/step - loss: 0.3135 - accuracy: 0.8892 - val_loss: 2.9594 - val_accuracy: 0.4929\n",
      "Epoch 87/100\n",
      "50000/50000 [==============================] - 5s 99us/step - loss: 0.3233 - accuracy: 0.8836 - val_loss: 3.0682 - val_accuracy: 0.4973\n",
      "Epoch 88/100\n",
      "50000/50000 [==============================] - 5s 99us/step - loss: 0.3272 - accuracy: 0.8823 - val_loss: 2.9395 - val_accuracy: 0.5029\n",
      "Epoch 89/100\n",
      "50000/50000 [==============================] - 5s 102us/step - loss: 0.2903 - accuracy: 0.8954 - val_loss: 2.9576 - val_accuracy: 0.5058\n",
      "Epoch 90/100\n",
      "50000/50000 [==============================] - 6s 111us/step - loss: 0.3261 - accuracy: 0.8820 - val_loss: 3.0916 - val_accuracy: 0.4949\n",
      "Epoch 91/100\n",
      "50000/50000 [==============================] - 5s 108us/step - loss: 0.3062 - accuracy: 0.8898 - val_loss: 3.2197 - val_accuracy: 0.4998\n",
      "Epoch 92/100\n",
      "50000/50000 [==============================] - 5s 105us/step - loss: 0.3019 - accuracy: 0.8925 - val_loss: 3.0878 - val_accuracy: 0.4984\n",
      "Epoch 93/100\n",
      "50000/50000 [==============================] - 5s 102us/step - loss: 0.2992 - accuracy: 0.8916 - val_loss: 3.1683 - val_accuracy: 0.4982\n",
      "Epoch 94/100\n",
      "50000/50000 [==============================] - 5s 102us/step - loss: 0.2936 - accuracy: 0.8946 - val_loss: 3.1375 - val_accuracy: 0.5051\n",
      "Epoch 95/100\n",
      "50000/50000 [==============================] - 5s 102us/step - loss: 0.2736 - accuracy: 0.9015 - val_loss: 3.2088 - val_accuracy: 0.5013\n",
      "Epoch 96/100\n",
      "50000/50000 [==============================] - 5s 102us/step - loss: 0.2741 - accuracy: 0.9026 - val_loss: 3.2936 - val_accuracy: 0.5022\n",
      "Epoch 97/100\n",
      "50000/50000 [==============================] - 5s 102us/step - loss: 0.2895 - accuracy: 0.8954 - val_loss: 3.2812 - val_accuracy: 0.5000\n",
      "Epoch 98/100\n",
      "50000/50000 [==============================] - 5s 104us/step - loss: 0.2775 - accuracy: 0.8996 - val_loss: 3.2848 - val_accuracy: 0.4978\n",
      "Epoch 99/100\n",
      "50000/50000 [==============================] - 5s 105us/step - loss: 0.2926 - accuracy: 0.8951 - val_loss: 3.3079 - val_accuracy: 0.4914\n",
      "Epoch 100/100\n",
      "50000/50000 [==============================] - 5s 102us/step - loss: 0.2627 - accuracy: 0.9063 - val_loss: 3.5528 - val_accuracy: 0.4934\n"
     ]
    },
    {
     "data": {
      "text/plain": [
       "<keras.callbacks.callbacks.History at 0x29aedf28>"
      ]
     },
     "execution_count": 12,
     "metadata": {},
     "output_type": "execute_result"
    }
   ],
   "source": [
    "model.fit(x_train, y_train, \n",
    "          epochs=EPOCHS, \n",
    "          batch_size=BATCH_SIZE, \n",
    "          validation_data=(x_test, y_test), \n",
    "          shuffle=True)"
   ]
  },
  {
   "cell_type": "code",
   "execution_count": 14,
   "metadata": {},
   "outputs": [
    {
     "data": {
      "image/png": "[encoded data removed]",
      "text/plain": [
       "<Figure size 432x288 with 1 Axes>"
      ]
     },
     "metadata": {
      "needs_background": "light"
     },
     "output_type": "display_data"
    },
    {
     "data": {
      "image/png": "[encoded data removed]",
      "text/plain": [
       "<Figure size 432x288 with 1 Axes>"
      ]
     },
     "metadata": {
      "needs_background": "light"
     },
     "output_type": "display_data"
    }
   ],
   "source": [
    "# 訓練模型並檢視驗證集的結果\n",
    "import matplotlib.pyplot as plt\n",
    "\n",
    "train_loss = model.history.history[\"loss\"]\n",
    "valid_loss = model.history.history[\"val_loss\"]\n",
    "\n",
    "train_acc = model.history.history[\"accuracy\"]\n",
    "valid_acc = model.history.history[\"val_accuracy\"]\n",
    "\n",
    "plt.plot(range(len(train_loss)), train_loss, label=\"train loss\")\n",
    "plt.plot(range(len(valid_loss)), valid_loss, label=\"valid loss\")\n",
    "plt.legend()\n",
    "plt.title(\"Loss\")\n",
    "plt.show()\n",
    "\n",
    "plt.plot(range(len(train_acc)), train_acc, label=\"train accuracy\")\n",
    "plt.plot(range(len(valid_acc)), valid_acc, label=\"valid accuracy\")\n",
    "plt.legend()\n",
    "plt.title(\"Accuracy\")\n",
    "plt.show()"
   ]
  },
  {
   "cell_type": "markdown",
   "metadata": {},
   "source": [
    "## Work\n",
    "1. 請嘗試將 preproc_x 替換成以每筆資料的 min/max 進行標準化至 -1 ~ 1 間，再進行訓練\n",
    "2. 請嘗試將 mlp 疊更深 (e.g 5~10 層)，進行訓練後觀察 learning curve 的走勢\n",
    "3. (optional) 請改用 GPU 進行訓練 (如果你有 GPU 的話)，比較使用 CPU 與 GPU 的訓練速度"
   ]
  }
 ],
 "metadata": {
  "kernelspec": {
   "display_name": "Python 3",
   "language": "python",
   "name": "python3"
  },
  "language_info": {
   "codemirror_mode": {
    "name": "ipython",
    "version": 3
   },
   "file_extension": ".py",
   "mimetype": "text/x-python",
   "name": "python",
   "nbconvert_exporter": "python",
   "pygments_lexer": "ipython3",
   "version": "3.7.3"
  }
 },
 "nbformat": 4,
 "nbformat_minor": 2
}
