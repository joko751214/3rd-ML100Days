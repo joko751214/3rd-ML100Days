{
 "cells": [
  {
   "cell_type": "markdown",
   "metadata": {},
   "source": [
    "## Work\n",
    "1. 請比較使用不同層數以及不同 Dropout rate 對訓練的效果\n",
    "2. 將 optimizer 改成使用 Adam 並加上適當的 dropout rate 檢視結果"
   ]
  },
  {
   "cell_type": "code",
   "execution_count": 1,
   "metadata": {},
   "outputs": [
    {
     "name": "stderr",
     "output_type": "stream",
     "text": [
      "Using TensorFlow backend.\n"
     ]
    }
   ],
   "source": [
    "import os\n",
    "import keras\n",
    "import itertools\n",
    "# Disable GPU\n",
    "os.environ[\"CUDA_VISIBLE_DEVICES\"] = \"\""
   ]
  },
  {
   "cell_type": "code",
   "execution_count": 2,
   "metadata": {},
   "outputs": [],
   "source": [
    "train, test = keras.datasets.cifar10.load_data()"
   ]
  },
  {
   "cell_type": "code",
   "execution_count": 3,
   "metadata": {},
   "outputs": [],
   "source": [
    "## 資料前處理\n",
    "def preproc_x(x, flatten=True):\n",
    "    x = x / 255.\n",
    "    if flatten:\n",
    "        x = x.reshape((len(x), -1))\n",
    "    return x\n",
    "\n",
    "def preproc_y(y, num_classes=10):\n",
    "    if y.shape[-1] == 1:\n",
    "        y = keras.utils.to_categorical(y, num_classes)\n",
    "    return y    "
   ]
  },
  {
   "cell_type": "code",
   "execution_count": 4,
   "metadata": {},
   "outputs": [],
   "source": [
    "x_train, y_train = train\n",
    "x_test, y_test = test\n",
    "\n",
    "# Preproc the inputs\n",
    "x_train = preproc_x(x_train)\n",
    "x_test = preproc_x(x_test)\n",
    "\n",
    "# Preprc the outputs\n",
    "y_train = preproc_y(y_train)\n",
    "y_test = preproc_y(y_test)"
   ]
  },
  {
   "cell_type": "code",
   "execution_count": 5,
   "metadata": {},
   "outputs": [],
   "source": [
    "from keras.layers import Dropout\n",
    "\n",
    "def build_mlp(input_shape, output_units=10, num_neurons=[512,256,128,128,64], drop_ratio=0.2):\n",
    "    input_layer = keras.layers.Input(input_shape)\n",
    "    for i, n_units in enumerate(num_neurons):\n",
    "        if i == 0:\n",
    "            x = keras.layers.Dense(units=n_units, \n",
    "                                   activation='relu', \n",
    "                                   name='hidden_layer'+str(i+1))(input_layer)\n",
    "            x = Dropout(drop_ratio)(x)\n",
    "        else:\n",
    "            x = keras.layers.Dense(units=n_units, \n",
    "                                   activation='relu', \n",
    "                                   name='hidden_layer'+str(i+1))(x)\n",
    "            x = Dropout(drop_ratio)(x)\n",
    "    out = keras.layers.Dense(units=output_units, activation='softmax')(x)\n",
    "    model = keras.models.Model(inputs=[input_layer], outputs=[out])\n",
    "    return model"
   ]
  },
  {
   "cell_type": "code",
   "execution_count": 6,
   "metadata": {},
   "outputs": [],
   "source": [
    "\"\"\"\n",
    "設定超參數\n",
    "\"\"\"\n",
    "Learning_rate = 1e-3\n",
    "Epochs = 50\n",
    "Batch_size = 256\n",
    "Dropout_EXP = 0.15"
   ]
  },
  {
   "cell_type": "code",
   "execution_count": 7,
   "metadata": {
    "scrolled": true
   },
   "outputs": [
    {
     "name": "stdout",
     "output_type": "stream",
     "text": [
      "Model: \"model_1\"\n",
      "_________________________________________________________________\n",
      "Layer (type)                 Output Shape              Param #   \n",
      "=================================================================\n",
      "input_1 (InputLayer)         (None, 3072)              0         \n",
      "_________________________________________________________________\n",
      "hidden_layer1 (Dense)        (None, 512)               1573376   \n",
      "_________________________________________________________________\n",
      "dropout_1 (Dropout)          (None, 512)               0         \n",
      "_________________________________________________________________\n",
      "hidden_layer2 (Dense)        (None, 256)               131328    \n",
      "_________________________________________________________________\n",
      "dropout_2 (Dropout)          (None, 256)               0         \n",
      "_________________________________________________________________\n",
      "hidden_layer3 (Dense)        (None, 128)               32896     \n",
      "_________________________________________________________________\n",
      "dropout_3 (Dropout)          (None, 128)               0         \n",
      "_________________________________________________________________\n",
      "hidden_layer4 (Dense)        (None, 128)               16512     \n",
      "_________________________________________________________________\n",
      "dropout_4 (Dropout)          (None, 128)               0         \n",
      "_________________________________________________________________\n",
      "hidden_layer5 (Dense)        (None, 64)                8256      \n",
      "_________________________________________________________________\n",
      "dropout_5 (Dropout)          (None, 64)                0         \n",
      "_________________________________________________________________\n",
      "dense_1 (Dense)              (None, 10)                650       \n",
      "=================================================================\n",
      "Total params: 1,763,018\n",
      "Trainable params: 1,763,018\n",
      "Non-trainable params: 0\n",
      "_________________________________________________________________\n",
      "WARNING:tensorflow:From C:\\Users\\infiark\\Anaconda3\\lib\\site-packages\\keras\\backend\\tensorflow_backend.py:422: The name tf.global_variables is deprecated. Please use tf.compat.v1.global_variables instead.\n",
      "\n",
      "Train on 50000 samples, validate on 10000 samples\n",
      "Epoch 1/50\n",
      "50000/50000 [==============================] - 6s 123us/step - loss: 2.0855 - accuracy: 0.2139 - val_loss: 1.8700 - val_accuracy: 0.3289\n",
      "Epoch 2/50\n",
      "50000/50000 [==============================] - 6s 117us/step - loss: 1.8903 - accuracy: 0.3128 - val_loss: 1.7675 - val_accuracy: 0.3591\n",
      "Epoch 3/50\n",
      "50000/50000 [==============================] - 6s 114us/step - loss: 1.8187 - accuracy: 0.3440 - val_loss: 1.6916 - val_accuracy: 0.3890\n",
      "Epoch 4/50\n",
      "50000/50000 [==============================] - 6s 114us/step - loss: 1.7767 - accuracy: 0.3589 - val_loss: 1.6819 - val_accuracy: 0.3949\n",
      "Epoch 5/50\n",
      "50000/50000 [==============================] - 6s 115us/step - loss: 1.7263 - accuracy: 0.3779 - val_loss: 1.6176 - val_accuracy: 0.4276\n",
      "Epoch 6/50\n",
      "50000/50000 [==============================] - 6s 115us/step - loss: 1.7051 - accuracy: 0.3863 - val_loss: 1.6192 - val_accuracy: 0.4136\n",
      "Epoch 7/50\n",
      "50000/50000 [==============================] - 6s 114us/step - loss: 1.6779 - accuracy: 0.3995 - val_loss: 1.5953 - val_accuracy: 0.4281\n",
      "Epoch 8/50\n",
      "50000/50000 [==============================] - 6s 114us/step - loss: 1.6542 - accuracy: 0.4093 - val_loss: 1.5781 - val_accuracy: 0.4374\n",
      "Epoch 9/50\n",
      "50000/50000 [==============================] - 6s 114us/step - loss: 1.6417 - accuracy: 0.4103 - val_loss: 1.5700 - val_accuracy: 0.4290\n",
      "Epoch 10/50\n",
      "50000/50000 [==============================] - 6s 114us/step - loss: 1.6229 - accuracy: 0.4177 - val_loss: 1.5596 - val_accuracy: 0.4540\n",
      "Epoch 11/50\n",
      "50000/50000 [==============================] - 6s 115us/step - loss: 1.6059 - accuracy: 0.4243 - val_loss: 1.5551 - val_accuracy: 0.4480\n",
      "Epoch 12/50\n",
      "50000/50000 [==============================] - 6s 114us/step - loss: 1.6007 - accuracy: 0.4246 - val_loss: 1.5071 - val_accuracy: 0.4585\n",
      "Epoch 13/50\n",
      "50000/50000 [==============================] - 6s 114us/step - loss: 1.5807 - accuracy: 0.4340 - val_loss: 1.5277 - val_accuracy: 0.4477\n",
      "Epoch 14/50\n",
      "50000/50000 [==============================] - 6s 114us/step - loss: 1.5729 - accuracy: 0.4405 - val_loss: 1.5232 - val_accuracy: 0.4578\n",
      "Epoch 15/50\n",
      "50000/50000 [==============================] - 6s 114us/step - loss: 1.5566 - accuracy: 0.4440 - val_loss: 1.5264 - val_accuracy: 0.4577\n",
      "Epoch 16/50\n",
      "50000/50000 [==============================] - 6s 114us/step - loss: 1.5469 - accuracy: 0.4466 - val_loss: 1.4976 - val_accuracy: 0.4725\n",
      "Epoch 17/50\n",
      "50000/50000 [==============================] - 6s 114us/step - loss: 1.5417 - accuracy: 0.4477 - val_loss: 1.5034 - val_accuracy: 0.4670\n",
      "Epoch 18/50\n",
      "50000/50000 [==============================] - 6s 114us/step - loss: 1.5312 - accuracy: 0.4541 - val_loss: 1.4947 - val_accuracy: 0.4622\n",
      "Epoch 19/50\n",
      "50000/50000 [==============================] - 6s 114us/step - loss: 1.5278 - accuracy: 0.4543 - val_loss: 1.4822 - val_accuracy: 0.4697\n",
      "Epoch 20/50\n",
      "50000/50000 [==============================] - 6s 114us/step - loss: 1.5137 - accuracy: 0.4596 - val_loss: 1.4575 - val_accuracy: 0.4780\n",
      "Epoch 21/50\n",
      "50000/50000 [==============================] - 6s 114us/step - loss: 1.5090 - accuracy: 0.4600 - val_loss: 1.4508 - val_accuracy: 0.4848\n",
      "Epoch 22/50\n",
      "50000/50000 [==============================] - 6s 114us/step - loss: 1.4990 - accuracy: 0.4654 - val_loss: 1.4520 - val_accuracy: 0.4810\n",
      "Epoch 23/50\n",
      "50000/50000 [==============================] - 6s 112us/step - loss: 1.4973 - accuracy: 0.4682 - val_loss: 1.4581 - val_accuracy: 0.4823\n",
      "Epoch 24/50\n",
      "50000/50000 [==============================] - 6s 111us/step - loss: 1.4889 - accuracy: 0.4691 - val_loss: 1.4630 - val_accuracy: 0.4805\n",
      "Epoch 25/50\n",
      "50000/50000 [==============================] - 6s 112us/step - loss: 1.4861 - accuracy: 0.4676 - val_loss: 1.4554 - val_accuracy: 0.4860\n",
      "Epoch 26/50\n",
      "50000/50000 [==============================] - 6s 112us/step - loss: 1.4752 - accuracy: 0.4744 - val_loss: 1.4478 - val_accuracy: 0.4837\n",
      "Epoch 27/50\n",
      "50000/50000 [==============================] - 6s 112us/step - loss: 1.4654 - accuracy: 0.4773 - val_loss: 1.4517 - val_accuracy: 0.4875\n",
      "Epoch 28/50\n",
      "50000/50000 [==============================] - 6s 112us/step - loss: 1.4670 - accuracy: 0.4751 - val_loss: 1.4369 - val_accuracy: 0.4909\n",
      "Epoch 29/50\n",
      "50000/50000 [==============================] - 6s 112us/step - loss: 1.4601 - accuracy: 0.4795 - val_loss: 1.4384 - val_accuracy: 0.4873\n",
      "Epoch 30/50\n",
      "50000/50000 [==============================] - 6s 114us/step - loss: 1.4636 - accuracy: 0.4802 - val_loss: 1.4167 - val_accuracy: 0.4960\n",
      "Epoch 31/50\n",
      "50000/50000 [==============================] - 6s 113us/step - loss: 1.4453 - accuracy: 0.4830 - val_loss: 1.4344 - val_accuracy: 0.4897\n",
      "Epoch 32/50\n",
      "50000/50000 [==============================] - 6s 112us/step - loss: 1.4424 - accuracy: 0.4853 - val_loss: 1.4634 - val_accuracy: 0.4798\n",
      "Epoch 33/50\n",
      "50000/50000 [==============================] - 6s 112us/step - loss: 1.4400 - accuracy: 0.4877 - val_loss: 1.4241 - val_accuracy: 0.4899\n",
      "Epoch 34/50\n",
      "50000/50000 [==============================] - 6s 112us/step - loss: 1.4351 - accuracy: 0.4887 - val_loss: 1.4402 - val_accuracy: 0.4895\n",
      "Epoch 35/50\n",
      "50000/50000 [==============================] - 6s 112us/step - loss: 1.4330 - accuracy: 0.4912 - val_loss: 1.4194 - val_accuracy: 0.4959\n",
      "Epoch 36/50\n",
      "50000/50000 [==============================] - 6s 112us/step - loss: 1.4299 - accuracy: 0.4901 - val_loss: 1.4306 - val_accuracy: 0.4867\n",
      "Epoch 37/50\n",
      "50000/50000 [==============================] - 6s 112us/step - loss: 1.4286 - accuracy: 0.4896 - val_loss: 1.4421 - val_accuracy: 0.4900\n",
      "Epoch 38/50\n",
      "50000/50000 [==============================] - 6s 112us/step - loss: 1.4204 - accuracy: 0.4945 - val_loss: 1.4337 - val_accuracy: 0.4940\n",
      "Epoch 39/50\n",
      "50000/50000 [==============================] - 6s 112us/step - loss: 1.4233 - accuracy: 0.4924 - val_loss: 1.4413 - val_accuracy: 0.4812\n",
      "Epoch 40/50\n",
      "50000/50000 [==============================] - 6s 112us/step - loss: 1.4181 - accuracy: 0.4941 - val_loss: 1.4177 - val_accuracy: 0.4925\n",
      "Epoch 41/50\n"
     ]
    },
    {
     "name": "stdout",
     "output_type": "stream",
     "text": [
      "50000/50000 [==============================] - 6s 110us/step - loss: 1.4134 - accuracy: 0.4956 - val_loss: 1.4106 - val_accuracy: 0.5056\n",
      "Epoch 42/50\n",
      "50000/50000 [==============================] - 6s 111us/step - loss: 1.4016 - accuracy: 0.5024 - val_loss: 1.4045 - val_accuracy: 0.4993\n",
      "Epoch 43/50\n",
      "50000/50000 [==============================] - 6s 111us/step - loss: 1.3997 - accuracy: 0.5011 - val_loss: 1.4092 - val_accuracy: 0.5041\n",
      "Epoch 44/50\n",
      "50000/50000 [==============================] - 6s 110us/step - loss: 1.3917 - accuracy: 0.5034 - val_loss: 1.4028 - val_accuracy: 0.5074\n",
      "Epoch 45/50\n",
      "50000/50000 [==============================] - 6s 114us/step - loss: 1.3851 - accuracy: 0.5083 - val_loss: 1.3828 - val_accuracy: 0.5086\n",
      "Epoch 46/50\n",
      "50000/50000 [==============================] - 6s 113us/step - loss: 1.3871 - accuracy: 0.5085 - val_loss: 1.4023 - val_accuracy: 0.4962\n",
      "Epoch 47/50\n",
      "50000/50000 [==============================] - 6s 111us/step - loss: 1.3789 - accuracy: 0.5069 - val_loss: 1.4082 - val_accuracy: 0.4981\n",
      "Epoch 48/50\n",
      "50000/50000 [==============================] - 6s 111us/step - loss: 1.3838 - accuracy: 0.5065 - val_loss: 1.4043 - val_accuracy: 0.5040\n",
      "Epoch 49/50\n",
      "50000/50000 [==============================] - 6s 110us/step - loss: 1.3774 - accuracy: 0.5091 - val_loss: 1.4015 - val_accuracy: 0.5007\n",
      "Epoch 50/50\n",
      "50000/50000 [==============================] - 6s 111us/step - loss: 1.3812 - accuracy: 0.5083 - val_loss: 1.3960 - val_accuracy: 0.5025\n"
     ]
    }
   ],
   "source": [
    "results = {}\n",
    "\"\"\"\n",
    "撰寫你的訓練流程並將結果用 dictionary 紀錄\n",
    "\"\"\"\n",
    "model = build_mlp(x_train.shape[1:], drop_ratio=Dropout_EXP)\n",
    "model.summary()\n",
    "optimizer = keras.optimizers.Adam(lr=Learning_rate)\n",
    "model.compile(loss=\"categorical_crossentropy\", metrics=[\"accuracy\"], optimizer=optimizer)\n",
    "\n",
    "model.fit(x_train, y_train,\n",
    "          epochs=Epochs,\n",
    "          batch_size=Batch_size,\n",
    "          validation_data=(x_test, y_test),\n",
    "          shuffle=True)\n",
    "\n",
    "train_loss = model.history.history['loss']\n",
    "valid_loss = model.history.history['val_loss']\n",
    "train_acc = model.history.history['accuracy']\n",
    "valid_acc = model.history.history['val_accuracy']"
   ]
  },
  {
   "cell_type": "code",
   "execution_count": 8,
   "metadata": {
    "scrolled": false
   },
   "outputs": [
    {
     "data": {
      "image/png": "[encoded data removed]",
      "text/plain": [
       "<Figure size 432x288 with 1 Axes>"
      ]
     },
     "metadata": {
      "needs_background": "light"
     },
     "output_type": "display_data"
    },
    {
     "data": {
      "image/png": "[encoded data removed]",
      "text/plain": [
       "<Figure size 432x288 with 1 Axes>"
      ]
     },
     "metadata": {
      "needs_background": "light"
     },
     "output_type": "display_data"
    }
   ],
   "source": [
    "import matplotlib.pyplot as plt\n",
    "%matplotlib inline\n",
    "\"\"\"\n",
    "將結果繪出\n",
    "\"\"\"\n",
    "plt.plot(range(len(train_loss)), train_loss, label='train loss')\n",
    "plt.plot(range(len(valid_loss)), valid_loss, label='train loss')\n",
    "plt.legend()\n",
    "plt.title(\"Loss\")\n",
    "plt.show()\n",
    "\n",
    "plt.plot(range(len(train_loss)), train_acc, label='train acc')\n",
    "plt.plot(range(len(valid_loss)), valid_acc, label='train acc')\n",
    "plt.legend()\n",
    "plt.title(\"Accuracy\")\n",
    "plt.show()"
   ]
  },
  {
   "cell_type": "code",
   "execution_count": null,
   "metadata": {},
   "outputs": [],
   "source": []
  }
 ],
 "metadata": {
  "kernelspec": {
   "display_name": "Python 3",
   "language": "python",
   "name": "python3"
  },
  "language_info": {
   "codemirror_mode": {
    "name": "ipython",
    "version": 3
   },
   "file_extension": ".py",
   "mimetype": "text/x-python",
   "name": "python",
   "nbconvert_exporter": "python",
   "pygments_lexer": "ipython3",
   "version": "3.7.3"
  }
 },
 "nbformat": 4,
 "nbformat_minor": 2
}
