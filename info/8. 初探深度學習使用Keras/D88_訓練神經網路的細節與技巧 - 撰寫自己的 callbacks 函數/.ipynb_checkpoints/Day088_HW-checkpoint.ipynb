{
 "cells": [
  {
   "cell_type": "markdown",
   "metadata": {},
   "source": [
    "## Work\n",
    "1. 請嘗試寫一個 callback 用來記錄各類別在訓練過程中，對驗證集的 True Positive 與 True Negative"
   ]
  },
  {
   "cell_type": "code",
   "execution_count": 1,
   "metadata": {},
   "outputs": [
    {
     "name": "stderr",
     "output_type": "stream",
     "text": [
      "Using TensorFlow backend.\n"
     ]
    }
   ],
   "source": [
    "import os\n",
    "import keras\n",
    "\n",
    "# Disable GPU\n",
    "os.environ[\"CUDA_VISIBLE_DEVICES\"] = \"\""
   ]
  },
  {
   "cell_type": "code",
   "execution_count": 2,
   "metadata": {},
   "outputs": [],
   "source": [
    "train, test = keras.datasets.cifar10.load_data()"
   ]
  },
  {
   "cell_type": "code",
   "execution_count": 3,
   "metadata": {},
   "outputs": [],
   "source": [
    "## 資料前處理\n",
    "def preproc_x(x, flatten=True):\n",
    "    x = x / 255.\n",
    "    if flatten:\n",
    "        x = x.reshape((len(x), -1))\n",
    "    return x\n",
    "\n",
    "def preproc_y(y, num_classes=10):\n",
    "    if y.shape[-1] == 1:\n",
    "        y = keras.utils.to_categorical(y, num_classes)\n",
    "    return y    "
   ]
  },
  {
   "cell_type": "code",
   "execution_count": 4,
   "metadata": {},
   "outputs": [],
   "source": [
    "x_train, y_train = train\n",
    "x_test, y_test = test\n",
    "\n",
    "# Preproc the inputs\n",
    "x_train = preproc_x(x_train)\n",
    "x_test = preproc_x(x_test)\n",
    "\n",
    "# Preprc the outputs\n",
    "y_train = preproc_y(y_train)\n",
    "y_test = preproc_y(y_test)"
   ]
  },
  {
   "cell_type": "code",
   "execution_count": 5,
   "metadata": {},
   "outputs": [],
   "source": [
    "from keras.layers import BatchNormalization\n",
    "def build_mlp(input_shape, output_units=10, num_neurons=[256, 256, 256]):\n",
    "    \"\"\"Code Here\n",
    "    建立你的神經網路\n",
    "    \"\"\"\n",
    "    input_layer = keras.layers.Input(input_shape)\n",
    "    \n",
    "    for i, n_units in enumerate(num_neurons):\n",
    "        if i == 0:\n",
    "            x = keras.layers.Dense(units=n_units, \n",
    "                                   activation='relu',\n",
    "                                   name='hidden_layer'+str(i+1))(input_layer)\n",
    "            x = BatchNormalization()(x)\n",
    "        else:\n",
    "            x = keras.layers.Dense(units=n_units, \n",
    "                                   activation='relu',\n",
    "                                   name='hidden_layer'+str(i+1))(x)\n",
    "            x = BatchNormalization()(x)\n",
    "        \n",
    "    out = keras.layers.Dense(units=output_units, activation='softmax', name='output')(x)\n",
    "    \n",
    "    model = keras.models.Model(inputs=[input_layer], outputs=[out])\n",
    "    return model"
   ]
  },
  {
   "cell_type": "code",
   "execution_count": 6,
   "metadata": {},
   "outputs": [],
   "source": [
    "## 超參數設定\n",
    "LEARNING_RATE = 1e-3\n",
    "EPOCHS = 25\n",
    "BATCH_SIZE = 1024\n",
    "MOMENTUM = 0.95"
   ]
  },
  {
   "cell_type": "code",
   "execution_count": 11,
   "metadata": {},
   "outputs": [],
   "source": [
    "# 載入 Callbacks\n",
    "from keras.callbacks import Callback\n",
    "from sklearn.metrics import confusion_matrix\n",
    "\n",
    "# Record_fp_tp\n",
    "class Record_tp_tn(Callback):\n",
    "    \"\"\"Code Here\n",
    "    撰寫一個紀錄 ture positive 與 true negative 數量的 callbacks    \n",
    "    \"\"\"\n",
    "    def on_train_begin(self, epoch, logs = {}):\n",
    "        logs = logs or {}\n",
    "        record_items = [\"val_tp\", \"val_tn\"]\n",
    "        for i in record_items:\n",
    "            if i not in self.params['metrics']:\n",
    "                self.params['metrics'].append(i)\n",
    "    \n",
    "    def on_epoch_end(self, epoch, logs = {}, thres=0.5):\n",
    "        logs = logs or {}\n",
    "        y_true = self.validation_data[1].ravel()\n",
    "        y_pred = self.model.predict(self.validation_data[0]).ravel()\n",
    "        y_pred = (y_pred >= thres) * 1\n",
    "        print(confusion_matrix(y_true, y_pred).ravel())\n",
    "        (tn, fp, fn, tp) = confusion_matrix(y_true,y_pred).ravel()\n",
    "        logs['val_tp'] = tp\n",
    "        logs[\"val_tn\"] = tn\n",
    "        \n",
    "rec_tptn = Record_tp_tn()"
   ]
  },
  {
   "cell_type": "code",
   "execution_count": 13,
   "metadata": {
    "scrolled": true
   },
   "outputs": [
    {
     "name": "stdout",
     "output_type": "stream",
     "text": [
      "Model: \"model_3\"\n",
      "_________________________________________________________________\n",
      "Layer (type)                 Output Shape              Param #   \n",
      "=================================================================\n",
      "input_3 (InputLayer)         (None, 3072)              0         \n",
      "_________________________________________________________________\n",
      "hidden_layer1 (Dense)        (None, 256)               786688    \n",
      "_________________________________________________________________\n",
      "batch_normalization_7 (Batch (None, 256)               1024      \n",
      "_________________________________________________________________\n",
      "hidden_layer2 (Dense)        (None, 256)               65792     \n",
      "_________________________________________________________________\n",
      "batch_normalization_8 (Batch (None, 256)               1024      \n",
      "_________________________________________________________________\n",
      "hidden_layer3 (Dense)        (None, 256)               65792     \n",
      "_________________________________________________________________\n",
      "batch_normalization_9 (Batch (None, 256)               1024      \n",
      "_________________________________________________________________\n",
      "output (Dense)               (None, 10)                2570      \n",
      "=================================================================\n",
      "Total params: 923,914\n",
      "Trainable params: 922,378\n",
      "Non-trainable params: 1,536\n",
      "_________________________________________________________________\n",
      "Train on 50000 samples, validate on 10000 samples\n",
      "Epoch 1/25\n",
      "50000/50000 [==============================] - 3s 55us/step - loss: 2.2602 - accuracy: 0.2585 - val_loss: 2.1789 - val_accuracy: 0.1589\n",
      "[89993     7  9965    35]\n",
      "Epoch 2/25\n",
      "50000/50000 [==============================] - 2s 48us/step - loss: 1.7706 - accuracy: 0.3816 - val_loss: 1.9996 - val_accuracy: 0.2951\n",
      "[89975    25  9883   117]\n",
      "Epoch 3/25\n",
      "50000/50000 [==============================] - 2s 47us/step - loss: 1.6388 - accuracy: 0.4264 - val_loss: 1.8533 - val_accuracy: 0.3604\n",
      "[89923    77  9707   293]\n",
      "Epoch 4/25\n",
      "50000/50000 [==============================] - 2s 49us/step - loss: 1.5664 - accuracy: 0.4502 - val_loss: 1.7308 - val_accuracy: 0.3996\n",
      "[89733   267  9221   779]\n",
      "Epoch 5/25\n",
      "50000/50000 [==============================] - 2s 48us/step - loss: 1.5141 - accuracy: 0.4694 - val_loss: 1.6440 - val_accuracy: 0.4225\n",
      "[89569   431  8819  1181]\n",
      "Epoch 6/25\n",
      "50000/50000 [==============================] - 2s 47us/step - loss: 1.4709 - accuracy: 0.4859 - val_loss: 1.5964 - val_accuracy: 0.4415\n",
      "[89332   668  8367  1633]\n",
      "Epoch 7/25\n",
      "50000/50000 [==============================] - 3s 57us/step - loss: 1.4337 - accuracy: 0.4994 - val_loss: 1.5611 - val_accuracy: 0.4465\n",
      "[89076   924  7967  2033]\n",
      "Epoch 8/25\n",
      "50000/50000 [==============================] - 2s 48us/step - loss: 1.4022 - accuracy: 0.5115 - val_loss: 1.5349 - val_accuracy: 0.4551\n",
      "[88962  1038  7772  2228]\n",
      "Epoch 9/25\n",
      "50000/50000 [==============================] - 2s 47us/step - loss: 1.3727 - accuracy: 0.5226 - val_loss: 1.5158 - val_accuracy: 0.4621\n",
      "[88734  1266  7475  2525]\n",
      "Epoch 10/25\n",
      "50000/50000 [==============================] - 2s 46us/step - loss: 1.3434 - accuracy: 0.5325 - val_loss: 1.5081 - val_accuracy: 0.4667\n",
      "[88697  1303  7418  2582]\n",
      "Epoch 11/25\n",
      "50000/50000 [==============================] - 2s 46us/step - loss: 1.3185 - accuracy: 0.5421 - val_loss: 1.4988 - val_accuracy: 0.4693\n",
      "[88531  1469  7231  2769]\n",
      "Epoch 12/25\n",
      "50000/50000 [==============================] - 2s 46us/step - loss: 1.2959 - accuracy: 0.5509 - val_loss: 1.4836 - val_accuracy: 0.4764\n",
      "[88495  1505  7125  2875]\n",
      "Epoch 13/25\n",
      "50000/50000 [==============================] - 2s 48us/step - loss: 1.2728 - accuracy: 0.5587 - val_loss: 1.4730 - val_accuracy: 0.4825\n",
      "[88520  1480  7089  2911]\n",
      "Epoch 14/25\n",
      "50000/50000 [==============================] - 2s 46us/step - loss: 1.2495 - accuracy: 0.5686 - val_loss: 1.4758 - val_accuracy: 0.4802\n",
      "[88477  1523  7047  2953]\n",
      "Epoch 15/25\n",
      "50000/50000 [==============================] - 2s 45us/step - loss: 1.2286 - accuracy: 0.5764 - val_loss: 1.4643 - val_accuracy: 0.4811\n",
      "[88373  1627  6937  3063]\n",
      "Epoch 16/25\n",
      "50000/50000 [==============================] - 2s 46us/step - loss: 1.2089 - accuracy: 0.5830 - val_loss: 1.4671 - val_accuracy: 0.4809\n",
      "[88421  1579  6926  3074]\n",
      "Epoch 17/25\n",
      "50000/50000 [==============================] - 2s 46us/step - loss: 1.1894 - accuracy: 0.5908 - val_loss: 1.4644 - val_accuracy: 0.4878\n",
      "[88375  1625  6849  3151]\n",
      "Epoch 18/25\n",
      "50000/50000 [==============================] - 3s 51us/step - loss: 1.1703 - accuracy: 0.5975 - val_loss: 1.4608 - val_accuracy: 0.4896\n",
      "[88342  1658  6800  3200]\n",
      "Epoch 19/25\n",
      "50000/50000 [==============================] - 2s 47us/step - loss: 1.1510 - accuracy: 0.6046 - val_loss: 1.4608 - val_accuracy: 0.4877\n",
      "[88213  1787  6713  3287]\n",
      "Epoch 20/25\n",
      "50000/50000 [==============================] - 3s 55us/step - loss: 1.1324 - accuracy: 0.6120 - val_loss: 1.4554 - val_accuracy: 0.4888\n",
      "[88287  1713  6788  3212]\n",
      "Epoch 21/25\n",
      "50000/50000 [==============================] - 3s 52us/step - loss: 1.1160 - accuracy: 0.6162 - val_loss: 1.4594 - val_accuracy: 0.4937\n",
      "[88094  1906  6582  3418]\n",
      "Epoch 22/25\n",
      "50000/50000 [==============================] - 2s 50us/step - loss: 1.0996 - accuracy: 0.6242 - val_loss: 1.4561 - val_accuracy: 0.4898\n",
      "[88045  1955  6618  3382]\n",
      "Epoch 23/25\n",
      "50000/50000 [==============================] - 3s 51us/step - loss: 1.0810 - accuracy: 0.6310 - val_loss: 1.4444 - val_accuracy: 0.4928\n",
      "[88131  1869  6570  3430]\n",
      "Epoch 24/25\n",
      "50000/50000 [==============================] - 2s 46us/step - loss: 1.0636 - accuracy: 0.6374 - val_loss: 1.4455 - val_accuracy: 0.4963\n",
      "[88050  1950  6509  3491]\n",
      "Epoch 25/25\n",
      "50000/50000 [==============================] - 2s 50us/step - loss: 1.0480 - accuracy: 0.6432 - val_loss: 1.4616 - val_accuracy: 0.4912\n",
      "[88061  1939  6609  3391]\n"
     ]
    }
   ],
   "source": [
    "model = build_mlp(input_shape=x_train.shape[1:])\n",
    "model.summary()\n",
    "optimizer = keras.optimizers.SGD(lr=LEARNING_RATE, nesterov=True, momentum=MOMENTUM)\n",
    "model.compile(loss=\"categorical_crossentropy\", metrics=[\"accuracy\"], optimizer=optimizer)\n",
    "\n",
    "\"\"\"Code Here\n",
    "將 callbacks 放入模型訓練流程中\n",
    "\"\"\"\n",
    "model.fit(x_train, y_train,\n",
    "          epochs=EPOCHS,\n",
    "          batch_size=BATCH_SIZE,\n",
    "          validation_data=[x_test, y_test],\n",
    "          shuffle=True,\n",
    "          callbacks=[rec_tptn])\n",
    "\n",
    "# Collect results\n",
    "train_loss = model.history.history[\"loss\"]\n",
    "valid_loss = model.history.history[\"val_loss\"]\n",
    "train_acc = model.history.history[\"accuracy\"]\n",
    "valid_acc = model.history.history[\"val_accuracy\"]\n",
    "\n",
    "\"\"\"Code Here\n",
    "將 tp/tn 從訓練完的模型中取出\n",
    "\"\"\"\n",
    "valid_tp = model.history.history['val_tp']\n",
    "valid_tn = model.history.history['val_tn']"
   ]
  },
  {
   "cell_type": "code",
   "execution_count": 14,
   "metadata": {},
   "outputs": [
    {
     "data": {
      "image/png": "[encoded data removed]",
      "text/plain": [
       "<Figure size 432x288 with 1 Axes>"
      ]
     },
     "metadata": {
      "needs_background": "light"
     },
     "output_type": "display_data"
    },
    {
     "data": {
      "image/png": "[encoded data removed]",
      "text/plain": [
       "<Figure size 432x288 with 1 Axes>"
      ]
     },
     "metadata": {
      "needs_background": "light"
     },
     "output_type": "display_data"
    },
    {
     "data": {
      "image/png": "[encoded data removed]",
      "text/plain": [
       "<Figure size 432x288 with 1 Axes>"
      ]
     },
     "metadata": {
      "needs_background": "light"
     },
     "output_type": "display_data"
    }
   ],
   "source": [
    "import matplotlib.pyplot as plt\n",
    "%matplotlib inline\n",
    "\n",
    "plt.plot(range(len(train_loss)), train_loss, label=\"train loss\")\n",
    "plt.plot(range(len(valid_loss)), valid_loss, label=\"valid loss\")\n",
    "plt.legend()\n",
    "plt.title(\"Loss\")\n",
    "plt.show()\n",
    "\n",
    "plt.plot(range(len(train_acc)), train_acc, label=\"train accuracy\")\n",
    "plt.plot(range(len(valid_acc)), valid_acc, label=\"valid accuracy\")\n",
    "plt.legend()\n",
    "plt.title(\"Accuracy\")\n",
    "plt.show()\n",
    "\n",
    "plt.plot(range(len(valid_tp)), valid_tp, label=\"valid tp\", color=\"navy\")\n",
    "plt.plot(range(len(valid_tn)), valid_tn, label=\"valid tn\", color=\"red\")\n",
    "plt.legend()\n",
    "plt.title(\"True positives and True Negatives\")\n",
    "plt.show()\n"
   ]
  }
 ],
 "metadata": {
  "kernelspec": {
   "display_name": "Python 3",
   "language": "python",
   "name": "python3"
  },
  "language_info": {
   "codemirror_mode": {
    "name": "ipython",
    "version": 3
   },
   "file_extension": ".py",
   "mimetype": "text/x-python",
   "name": "python",
   "nbconvert_exporter": "python",
   "pygments_lexer": "ipython3",
   "version": "3.7.3"
  }
 },
 "nbformat": 4,
 "nbformat_minor": 2
}
