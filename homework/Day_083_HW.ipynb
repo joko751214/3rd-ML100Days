{
 "cells": [
  {
   "cell_type": "markdown",
   "metadata": {},
   "source": [
    "## Work\n",
    "1. 試比較有 BN 在 Batch_size = 2, 16, 32, 128, 256 下的差異\n",
    "2. 請嘗試將 BN 放在 Activation 之前，並比較訓練結果\n",
    "3. 請於 BN 放在 Input Layer 後，並比較結果"
   ]
  },
  {
   "cell_type": "code",
   "execution_count": 1,
   "metadata": {},
   "outputs": [
    {
     "name": "stderr",
     "output_type": "stream",
     "text": [
      "Using TensorFlow backend.\n"
     ]
    }
   ],
   "source": [
    "import os\n",
    "import keras\n",
    "import itertools\n",
    "# Disable GPU\n",
    "os.environ[\"CUDA_VISIBLE_DEVICES\"] = \"\""
   ]
  },
  {
   "cell_type": "code",
   "execution_count": 2,
   "metadata": {},
   "outputs": [],
   "source": [
    "train, test = keras.datasets.cifar10.load_data()"
   ]
  },
  {
   "cell_type": "code",
   "execution_count": 3,
   "metadata": {},
   "outputs": [],
   "source": [
    "## 資料前處理\n",
    "def preproc_x(x, flatten=True):\n",
    "    x = x / 255.\n",
    "    if flatten:\n",
    "        x = x.reshape((len(x), -1))\n",
    "    return x\n",
    "\n",
    "def preproc_y(y, num_classes=10):\n",
    "    if y.shape[-1] == 1:\n",
    "        y = keras.utils.to_categorical(y, num_classes)\n",
    "    return y    "
   ]
  },
  {
   "cell_type": "code",
   "execution_count": 4,
   "metadata": {},
   "outputs": [],
   "source": [
    "x_train, y_train = train\n",
    "x_test, y_test = test\n",
    "\n",
    "# Preproc the inputs\n",
    "x_train = preproc_x(x_train)\n",
    "x_test = preproc_x(x_test)\n",
    "\n",
    "# Preprc the outputs\n",
    "y_train = preproc_y(y_train)\n",
    "y_test = preproc_y(y_test)"
   ]
  },
  {
   "cell_type": "code",
   "execution_count": 5,
   "metadata": {},
   "outputs": [],
   "source": [
    "from keras.layers import BatchNormalization\n",
    "\n",
    "def build_mlp_before_activation(input_shape, output_units=10, num_neurons=[512,256,128]):\n",
    "    \"\"\"Code Here\n",
    "    建立你的神經網路\n",
    "    \"\"\"\n",
    "    input_layer = keras.Input(input_shape)\n",
    "    \n",
    "    for i, n_units in enumerate(num_neurons):\n",
    "        if i == 0:\n",
    "            x = BatchNormalization()(input_layer)\n",
    "            x = keras.layers.Dense(units=n_units,\n",
    "                               activation='relu',\n",
    "                               name='hidden_layer'+str(i+1))(x)\n",
    "        else:\n",
    "            x = BatchNormalization()(x)\n",
    "            x = keras.layers.Dense(units=n_units,\n",
    "                                   activation='relu',\n",
    "                                   name='hidden_layer'+str(i+1))(x)\n",
    "    out = keras.layers.Dense(units=output_units, activation='softmax')(x)\n",
    "    model = keras.models.Model(inputs=[input_layer], outputs=[out])\n",
    "    return model\n",
    "\n",
    "def build_mlp_after_input(input_shape, output_units=10, num_neurons=[512,256,128]):\n",
    "    \"\"\"Code Here\n",
    "    建立你的神經網路\n",
    "    \"\"\"\n",
    "    input_layer = keras.Input(input_shape)\n",
    "    x = BatchNormalization()(input_layer)\n",
    "    for i, n_units in enumerate(num_neurons):\n",
    "        x = keras.layers.Dense(units=n_units,\n",
    "                               activation='relu',\n",
    "                               name='hidden_layer'+str(i+1))(x)\n",
    "    out = keras.layers.Dense(units=output_units, activation='softmax')(x)\n",
    "    model = keras.models.Model(inputs=[input_layer], outputs=[out])\n",
    "    return model"
   ]
  },
  {
   "cell_type": "code",
   "execution_count": 6,
   "metadata": {},
   "outputs": [],
   "source": [
    "\"\"\"Code Here\n",
    "設定超參數\n",
    "\"\"\"\n",
    "LEARNING_RATE = 1e-3\n",
    "EPOCHS = 50\n",
    "BATCH_SIZE = [2, 16, 32, 128, 256]\n",
    "MOMENTUM = 0.95"
   ]
  },
  {
   "cell_type": "code",
   "execution_count": null,
   "metadata": {
    "scrolled": true
   },
   "outputs": [
    {
     "name": "stdout",
     "output_type": "stream",
     "text": [
      "Model: \"model_1\"\n",
      "_________________________________________________________________\n",
      "Layer (type)                 Output Shape              Param #   \n",
      "=================================================================\n",
      "input_1 (InputLayer)         (None, 3072)              0         \n",
      "_________________________________________________________________\n",
      "hidden_layer1 (Dense)        (None, 512)               1573376   \n",
      "_________________________________________________________________\n",
      "batch_normalization_1 (Batch (None, 512)               2048      \n",
      "_________________________________________________________________\n",
      "hidden_layer2 (Dense)        (None, 256)               131328    \n",
      "_________________________________________________________________\n",
      "batch_normalization_2 (Batch (None, 256)               1024      \n",
      "_________________________________________________________________\n",
      "hidden_layer3 (Dense)        (None, 128)               32896     \n",
      "_________________________________________________________________\n",
      "dense_1 (Dense)              (None, 10)                1290      \n",
      "=================================================================\n",
      "Total params: 1,741,962\n",
      "Trainable params: 1,740,426\n",
      "Non-trainable params: 1,536\n",
      "_________________________________________________________________\n",
      "WARNING:tensorflow:From C:\\Users\\infiark\\Anaconda3\\lib\\site-packages\\keras\\backend\\tensorflow_backend.py:422: The name tf.global_variables is deprecated. Please use tf.compat.v1.global_variables instead.\n",
      "\n",
      "Train on 50000 samples, validate on 10000 samples\n",
      "Epoch 1/50\n",
      "50000/50000 [==============================] - 298s 6ms/step - loss: 2.2520 - accuracy: 0.1605 - val_loss: 2.1694 - val_accuracy: 0.2435\n",
      "Epoch 2/50\n",
      "50000/50000 [==============================] - 279s 6ms/step - loss: 2.2110 - accuracy: 0.1798 - val_loss: 3.3966 - val_accuracy: 0.2234\n",
      "Epoch 3/50\n",
      "50000/50000 [==============================] - 295s 6ms/step - loss: 2.2027 - accuracy: 0.1825 - val_loss: 6.0789 - val_accuracy: 0.2165\n",
      "Epoch 4/50\n",
      "50000/50000 [==============================] - 290s 6ms/step - loss: 2.2055 - accuracy: 0.1842 - val_loss: 5.3640 - val_accuracy: 0.2424\n",
      "Epoch 5/50\n",
      "50000/50000 [==============================] - 302s 6ms/step - loss: 2.2021 - accuracy: 0.1854 - val_loss: 12.7432 - val_accuracy: 0.1919\n",
      "Epoch 6/50\n",
      "50000/50000 [==============================] - 301s 6ms/step - loss: 2.2020 - accuracy: 0.1837 - val_loss: 13.3066 - val_accuracy: 0.2148\n",
      "Epoch 7/50\n",
      "47610/50000 [===========================>..] - ETA: 14s - loss: 2.1915 - accuracy: 0.1899"
     ]
    }
   ],
   "source": [
    "results = {}\n",
    "\"\"\"Code Here\n",
    "撰寫你的訓練流程並將結果用 dictionary 紀錄\n",
    "\"\"\"\n",
    "model = build_mlp_before_activation(input_shape=x_train.shape[1:])\n",
    "model.summary()\n",
    "optimizer = keras.optimizers.SGD(lr=LEARNING_RATE, momentum=MOMENTUM, nesterov=True)\n",
    "model.compile(loss='categorical_crossentropy', metrics=['accuracy'], optimizer=optimizer)\n",
    "\n",
    "for batch_size in BATCH_SIZE:\n",
    "    tag_name = 'batch_size: %s' % str(batch_size)\n",
    "    model.fit(x_train, y_train,\n",
    "              epochs=EPOCHS,\n",
    "              batch_size=batch_size,\n",
    "              validation_data=(x_test, y_test),\n",
    "              shuffle=True)\n",
    "    \n",
    "    train_loss = model.history.history['loss']\n",
    "    valid_loss = model.history.history['val_loss']\n",
    "    train_acc = model.history.history['accuracy']\n",
    "    valid_acc = model.history.history['val_accuracy']\n",
    "    results[tag_nzme] = {'train-loss':train_loss,\n",
    "                         'valid-loss':valid_loss,\n",
    "                         'train-acc':train_acc,\n",
    "                         'valid-acc':valid_acc}"
   ]
  },
  {
   "cell_type": "code",
   "execution_count": null,
   "metadata": {},
   "outputs": [],
   "source": [
    "import matplotlib.pyplot as plt\n",
    "%matplotlib inline\n",
    "\"\"\"Code Here\n",
    "將結果繪出\n",
    "\"\"\"\n",
    "plt.plot(range(len(train_loss)), train_loss, label=\"train loss\")\n",
    "plt.plot(range(len(valid_loss)), valid_loss, label=\"valid loss\")\n",
    "plt.legend()\n",
    "plt.title(\"Loss\")\n",
    "plt.show()\n",
    "\n",
    "plt.plot(range(len(train_acc)), train_acc, label=\"train accuracy\")\n",
    "plt.plot(range(len(valid_acc)), valid_acc, label=\"valid accuracy\")\n",
    "plt.legend()\n",
    "plt.title(\"Accuracy\")\n",
    "plt.show()"
   ]
  },
  {
   "cell_type": "code",
   "execution_count": null,
   "metadata": {},
   "outputs": [],
   "source": [
    "results = {}\n",
    "\"\"\"Code Here\n",
    "撰寫你的訓練流程並將結果用 dictionary 紀錄\n",
    "\"\"\"\n",
    "model = build_mlp_after_input(input_shape=x_train.shape[1:])\n",
    "model.summary()\n",
    "optimizer = keras.optimizers.SGD(lr=LEARNING_RATE, momentum=MOMENTUM, nesterov=True)\n",
    "model.compile(loss='categorical_crossentropy', metrics=['accuracy'], optimizer=optimizer)\n",
    "\n",
    "for batch_size in BATCH_SIZE:\n",
    "    tag_name = 'batch_size: %s' % str(batch_size)\n",
    "    model.fit(x_train, y_train,\n",
    "              epochs=EPOCHS,\n",
    "              batch_size=batch_size,\n",
    "              validation_data=(x_test, y_test),\n",
    "              shuffle=True)\n",
    "    \n",
    "    train_loss = model.history.history['loss']\n",
    "    valid_loss = model.history.history['val_loss']\n",
    "    train_acc = model.history.history['accuracy']\n",
    "    valid_acc = model.history.history['val_accuracy']\n",
    "    results[tag_nzme] = {'train-loss':train_loss,\n",
    "                         'valid-loss':valid_loss,\n",
    "                         'train-acc':train_acc,\n",
    "                         'valid-acc':valid_acc}"
   ]
  },
  {
   "cell_type": "code",
   "execution_count": null,
   "metadata": {},
   "outputs": [],
   "source": [
    "%matplotlib inline\n",
    "\n",
    "plt.plot(range(len(train_loss)), train_loss, label=\"train loss\")\n",
    "plt.plot(range(len(valid_loss)), valid_loss, label=\"valid loss\")\n",
    "plt.legend()\n",
    "plt.title(\"Loss\")\n",
    "plt.show()\n",
    "\n",
    "plt.plot(range(len(train_acc)), train_acc, label=\"train accuracy\")\n",
    "plt.plot(range(len(valid_acc)), valid_acc, label=\"valid accuracy\")\n",
    "plt.legend()\n",
    "plt.title(\"Accuracy\")\n",
    "plt.show()"
   ]
  }
 ],
 "metadata": {
  "kernelspec": {
   "display_name": "Python 3",
   "language": "python",
   "name": "python3"
  },
  "language_info": {
   "codemirror_mode": {
    "name": "ipython",
    "version": 3
   },
   "file_extension": ".py",
   "mimetype": "text/x-python",
   "name": "python",
   "nbconvert_exporter": "python",
   "pygments_lexer": "ipython3",
   "version": "3.7.3"
  }
 },
 "nbformat": 4,
 "nbformat_minor": 2
}
