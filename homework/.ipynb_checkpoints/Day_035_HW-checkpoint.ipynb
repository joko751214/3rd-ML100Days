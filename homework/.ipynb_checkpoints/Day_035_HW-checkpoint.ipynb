{
 "cells": [
  {
   "cell_type": "markdown",
   "metadata": {},
   "source": [
    "## 練習時間\n",
    "相信大家對回歸問題及分類問題都有初步的了解。今天的作業希望大家搜尋有關 multi-label 的案例問題。下圖是電影 \"奇異博士\" 的分類。可以看到同時有 \"Action\", \"Adventure\", \"Fantasy\" 的類別存在，代表這是個多標籤的問題。 "
   ]
  },
  {
   "cell_type": "markdown",
   "metadata": {},
   "source": [
    "![image](https://cdn-images-1.medium.com/max/1000/1*r0gYXMSQf5VhdMyl2bRDyg.png)"
   ]
  },
  {
   "attachments": {},
   "cell_type": "markdown",
   "metadata": {},
   "source": [
    "## 請搜尋目標為多標籤問題 (Multi-label) 的機器學習案例，了解其資料來源、目標以及評估指標為何\n",
    "## Hint: 服飾\n",
    "\n",
    "* Ans:\n",
    "https://shopee.tw/%E3%80%90%E7%8F%BE%E8%B2%A8%E3%80%912019%E5%86%AC%E5%AD%A3%E6%96%B0%E6%AC%BE%E7%94%B7%E5%A3%AB%E5%9C%8D%E8%84%96-%E6%83%85%E4%BE%B6%E5%9C%8D%E5%B7%BE%E9%9F%93%E7%89%88%E9%87%9D%E7%B9%94%E6%AF%9B%E7%B7%9A%E4%BF%9D%E6%9A%96%E5%80%8B%E6%80%A7%E7%99%BE%E6%90%AD%E5%AD%B8%E7%94%9F-%E6%83%85%E4%BE%B6%E5%9C%8D%E8%84%96-i.153115742.3401475096\n",
    "* 以上述網站為例，圍巾的標籤分為\"男士圍脖\"、\"情侶圍巾\"、\"情侶圍脖\""
   ]
  }
 ],
 "metadata": {
  "kernelspec": {
   "display_name": "Python 3",
   "language": "python",
   "name": "python3"
  },
  "language_info": {
   "codemirror_mode": {
    "name": "ipython",
    "version": 3
   },
   "file_extension": ".py",
   "mimetype": "text/x-python",
   "name": "python",
   "nbconvert_exporter": "python",
   "pygments_lexer": "ipython3",
   "version": "3.7.3"
  }
 },
 "nbformat": 4,
 "nbformat_minor": 2
}
